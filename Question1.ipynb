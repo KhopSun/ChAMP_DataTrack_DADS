{
 "cells": [
  {
   "cell_type": "markdown",
   "metadata": {},
   "source": [
    "## Question 1:\n",
    "* Are there difference in user behavior between contact channels?\n",
    "* How to better serve each group? "
   ]
  },
  {
   "cell_type": "markdown",
   "metadata": {},
   "source": [
    "## Import Libraries"
   ]
  },
  {
   "cell_type": "code",
   "execution_count": 27,
   "metadata": {},
   "outputs": [],
   "source": [
    "import pandas as pd\n",
    "import numpy as np"
   ]
  },
  {
   "cell_type": "markdown",
   "metadata": {},
   "source": [
    "## Functions"
   ]
  },
  {
   "cell_type": "code",
   "execution_count": 25,
   "metadata": {},
   "outputs": [],
   "source": [
    "def makeList(x):\n",
    "    if isinstance(x,list):\n",
    "        return x\n",
    "    elif isinstance(x,str):\n",
    "        return x.split(',')\n",
    "    else: return np.nan\n",
    "\n",
    "# the_df.type = the_df.type.apply(makelist)\n",
    "# the_df = the_df.explode('type')\n",
    "# the_df.type.value_counts()"
   ]
  },
  {
   "cell_type": "markdown",
   "metadata": {},
   "source": [
    "## EDA"
   ]
  },
  {
   "cell_type": "code",
   "execution_count": 9,
   "metadata": {},
   "outputs": [],
   "source": [
    "cases = pd.read_csv('Traffy_Cases_from_2022-05-22_to_2024-12-11.csv')"
   ]
  },
  {
   "cell_type": "code",
   "execution_count": 10,
   "metadata": {},
   "outputs": [],
   "source": [
    "logs = pd.read_csv('Log_from_2022-05-22_to_2024-12-11.csv')"
   ]
  },
  {
   "cell_type": "code",
   "execution_count": 11,
   "metadata": {},
   "outputs": [
    {
     "data": {
      "text/html": [
       "<div>\n",
       "<style scoped>\n",
       "    .dataframe tbody tr th:only-of-type {\n",
       "        vertical-align: middle;\n",
       "    }\n",
       "\n",
       "    .dataframe tbody tr th {\n",
       "        vertical-align: top;\n",
       "    }\n",
       "\n",
       "    .dataframe thead th {\n",
       "        text-align: right;\n",
       "    }\n",
       "</style>\n",
       "<table border=\"1\" class=\"dataframe\">\n",
       "  <thead>\n",
       "    <tr style=\"text-align: right;\">\n",
       "      <th></th>\n",
       "      <th>ticket_id</th>\n",
       "      <th>type</th>\n",
       "      <th>organization_action</th>\n",
       "      <th>comment</th>\n",
       "      <th>coords</th>\n",
       "      <th>photo</th>\n",
       "      <th>photo_after</th>\n",
       "      <th>address</th>\n",
       "      <th>subdistrict</th>\n",
       "      <th>district</th>\n",
       "      <th>province</th>\n",
       "      <th>state</th>\n",
       "      <th>star</th>\n",
       "      <th>count_reopen</th>\n",
       "      <th>last_activity</th>\n",
       "      <th>view_count</th>\n",
       "    </tr>\n",
       "  </thead>\n",
       "  <tbody>\n",
       "    <tr>\n",
       "      <th>0</th>\n",
       "      <td>2024-6UUBZ2</td>\n",
       "      <td>เสียง</td>\n",
       "      <td>เขตบางพลัด, กรุงเทพมหานคร</td>\n",
       "      <td>เพื่อนบ้านเปิดเพลงเสียงดังรบกวนผ่านเครื่องขยาย...</td>\n",
       "      <td>100.49996,13.79136</td>\n",
       "      <td>https://storage.googleapis.com/traffy_public_b...</td>\n",
       "      <td>NaN</td>\n",
       "      <td>155 ซอย จรัญสนิทวงศ์ 79 แขวงบางพลัด เขตบางพลัด...</td>\n",
       "      <td>บางพลัด</td>\n",
       "      <td>บางพลัด</td>\n",
       "      <td>กรุงเทพมหานคร</td>\n",
       "      <td>start</td>\n",
       "      <td>NaN</td>\n",
       "      <td>0.0</td>\n",
       "      <td>2024-12-11 20:14:22</td>\n",
       "      <td>0.0</td>\n",
       "    </tr>\n",
       "    <tr>\n",
       "      <th>1</th>\n",
       "      <td>2024-CYP76V</td>\n",
       "      <td>ผิดกฎจราจร</td>\n",
       "      <td>เขตสาทร, กรุงเทพมหานคร</td>\n",
       "      <td>เรียนท่านผู้ว่าก.ท.ม\\nถึงก่อนปากซอยจันทร์18/7ใ...</td>\n",
       "      <td>100.5263,13.70647</td>\n",
       "      <td>https://storage.googleapis.com/traffy_public_b...</td>\n",
       "      <td>NaN</td>\n",
       "      <td>308 ถ. จันทน์ แขวงทุ่งวัดดอน เขตสาทร กรุงเทพมห...</td>\n",
       "      <td>ทุ่งวัดดอน</td>\n",
       "      <td>สาทร</td>\n",
       "      <td>กรุงเทพมหานคร</td>\n",
       "      <td>start</td>\n",
       "      <td>NaN</td>\n",
       "      <td>0.0</td>\n",
       "      <td>2024-12-11 20:14:14</td>\n",
       "      <td>0.0</td>\n",
       "    </tr>\n",
       "    <tr>\n",
       "      <th>2</th>\n",
       "      <td>2024-8U78XH</td>\n",
       "      <td>ผิดกฎจราจร</td>\n",
       "      <td>เขตสาทร, กรุงเทพมหานคร</td>\n",
       "      <td>จัดงานตลาดนัด จัดระเบียบได้ดีให้รถมอเตอร์ไซค์เ...</td>\n",
       "      <td>100.52758,13.70599</td>\n",
       "      <td>https://storage.googleapis.com/traffy_public_b...</td>\n",
       "      <td>NaN</td>\n",
       "      <td>1928/3 ซอย จันทน์ 23/2 แขวงทุ่งวัดดอน เขตสาทร ...</td>\n",
       "      <td>ทุ่งวัดดอน</td>\n",
       "      <td>สาทร</td>\n",
       "      <td>กรุงเทพมหานคร</td>\n",
       "      <td>start</td>\n",
       "      <td>NaN</td>\n",
       "      <td>0.0</td>\n",
       "      <td>2024-12-11 20:09:51</td>\n",
       "      <td>0.0</td>\n",
       "    </tr>\n",
       "    <tr>\n",
       "      <th>3</th>\n",
       "      <td>RXTPAP</td>\n",
       "      <td>ฝุ่นควัน&amp;กลิ่น&amp;PM2.5</td>\n",
       "      <td>เขตบางบอน, กรุงเทพมหานคร, ร้องทุกข์ กทม. 1555</td>\n",
       "      <td>ปัญหา: บริเวณหน้าบ้านเลขที่ดังกล่าว พบผู้อาศัย...</td>\n",
       "      <td>100.44078,13.68686</td>\n",
       "      <td>https://storage.googleapis.com/traffy_public_b...</td>\n",
       "      <td>NaN</td>\n",
       "      <td>10/101 ซอย เอกชัย 46 แขวงคลองบางพราน เขตบางบอน...</td>\n",
       "      <td>คลองบางพราน</td>\n",
       "      <td>บางบอน</td>\n",
       "      <td>กรุงเทพมหานคร</td>\n",
       "      <td>forward</td>\n",
       "      <td>NaN</td>\n",
       "      <td>0.0</td>\n",
       "      <td>2024-12-11 20:09:11</td>\n",
       "      <td>0.0</td>\n",
       "    </tr>\n",
       "    <tr>\n",
       "      <th>4</th>\n",
       "      <td>2024-78EH2R</td>\n",
       "      <td>อื่นๆ</td>\n",
       "      <td>เขตราชเทวี, กรุงเทพมหานคร</td>\n",
       "      <td>จอด</td>\n",
       "      <td>100.53401,13.75657</td>\n",
       "      <td>https://storage.googleapis.com/traffy_public_b...</td>\n",
       "      <td>NaN</td>\n",
       "      <td>BTS Phaya Thai Phaya Thai Road Thanon Phaya Th...</td>\n",
       "      <td>ถนนพญาไท</td>\n",
       "      <td>ราชเทวี</td>\n",
       "      <td>กรุงเทพมหานคร</td>\n",
       "      <td>start</td>\n",
       "      <td>NaN</td>\n",
       "      <td>0.0</td>\n",
       "      <td>2024-12-11 20:08:41</td>\n",
       "      <td>0.0</td>\n",
       "    </tr>\n",
       "  </tbody>\n",
       "</table>\n",
       "</div>"
      ],
      "text/plain": [
       "     ticket_id                  type  \\\n",
       "0  2024-6UUBZ2                 เสียง   \n",
       "1  2024-CYP76V            ผิดกฎจราจร   \n",
       "2  2024-8U78XH            ผิดกฎจราจร   \n",
       "3       RXTPAP  ฝุ่นควัน&กลิ่น&PM2.5   \n",
       "4  2024-78EH2R                 อื่นๆ   \n",
       "\n",
       "                             organization_action  \\\n",
       "0                      เขตบางพลัด, กรุงเทพมหานคร   \n",
       "1                         เขตสาทร, กรุงเทพมหานคร   \n",
       "2                         เขตสาทร, กรุงเทพมหานคร   \n",
       "3  เขตบางบอน, กรุงเทพมหานคร, ร้องทุกข์ กทม. 1555   \n",
       "4                      เขตราชเทวี, กรุงเทพมหานคร   \n",
       "\n",
       "                                             comment              coords  \\\n",
       "0  เพื่อนบ้านเปิดเพลงเสียงดังรบกวนผ่านเครื่องขยาย...  100.49996,13.79136   \n",
       "1  เรียนท่านผู้ว่าก.ท.ม\\nถึงก่อนปากซอยจันทร์18/7ใ...   100.5263,13.70647   \n",
       "2  จัดงานตลาดนัด จัดระเบียบได้ดีให้รถมอเตอร์ไซค์เ...  100.52758,13.70599   \n",
       "3  ปัญหา: บริเวณหน้าบ้านเลขที่ดังกล่าว พบผู้อาศัย...  100.44078,13.68686   \n",
       "4                                                จอด  100.53401,13.75657   \n",
       "\n",
       "                                               photo photo_after  \\\n",
       "0  https://storage.googleapis.com/traffy_public_b...         NaN   \n",
       "1  https://storage.googleapis.com/traffy_public_b...         NaN   \n",
       "2  https://storage.googleapis.com/traffy_public_b...         NaN   \n",
       "3  https://storage.googleapis.com/traffy_public_b...         NaN   \n",
       "4  https://storage.googleapis.com/traffy_public_b...         NaN   \n",
       "\n",
       "                                             address  subdistrict district  \\\n",
       "0  155 ซอย จรัญสนิทวงศ์ 79 แขวงบางพลัด เขตบางพลัด...      บางพลัด  บางพลัด   \n",
       "1  308 ถ. จันทน์ แขวงทุ่งวัดดอน เขตสาทร กรุงเทพมห...   ทุ่งวัดดอน     สาทร   \n",
       "2  1928/3 ซอย จันทน์ 23/2 แขวงทุ่งวัดดอน เขตสาทร ...   ทุ่งวัดดอน     สาทร   \n",
       "3  10/101 ซอย เอกชัย 46 แขวงคลองบางพราน เขตบางบอน...  คลองบางพราน   บางบอน   \n",
       "4  BTS Phaya Thai Phaya Thai Road Thanon Phaya Th...     ถนนพญาไท  ราชเทวี   \n",
       "\n",
       "        province    state  star  count_reopen        last_activity  view_count  \n",
       "0  กรุงเทพมหานคร    start   NaN           0.0  2024-12-11 20:14:22         0.0  \n",
       "1  กรุงเทพมหานคร    start   NaN           0.0  2024-12-11 20:14:14         0.0  \n",
       "2  กรุงเทพมหานคร    start   NaN           0.0  2024-12-11 20:09:51         0.0  \n",
       "3  กรุงเทพมหานคร  forward   NaN           0.0  2024-12-11 20:09:11         0.0  \n",
       "4  กรุงเทพมหานคร    start   NaN           0.0  2024-12-11 20:08:41         0.0  "
      ]
     },
     "metadata": {},
     "output_type": "display_data"
    }
   ],
   "source": [
    "display(cases.head())"
   ]
  },
  {
   "cell_type": "code",
   "execution_count": 18,
   "metadata": {},
   "outputs": [
    {
     "data": {
      "text/plain": [
       "array(['เขตบางพลัด, กรุงเทพมหานคร', 'เขตสาทร, กรุงเทพมหานคร',\n",
       "       'เขตบางบอน, กรุงเทพมหานคร, ร้องทุกข์ กทม. 1555', ...,\n",
       "       'โครงการรถไฟฟ้าสายสีเขียวเหนือ (ถนนพหลโยธิน และถนนลาดพร้าว), การไฟฟ้านครหลวง เขตบางเขน, กองแผนงานและประสานสาธารณูปโภค สำนักการโยธา (กผภ.สนย.) กทม., การไฟฟ้านครหลวง ฝ่ายบริหารโครงการ, สำนักการโยธา กทม., เขตจตุจักร, ฟขข.รับร้องเรียนฟุตบาท+ฝาท่อ, การไฟฟ้านครหลวง MEA, เพื่อนชัชชาติ, กรุงเทพมหานคร',\n",
       "       'เพื่อนชัชชาติ, เขตบางเขน, กรมป้องกันและบรรเทาสาธารณภัย, ศูนย์อำนวยการบรรเทาสาธารณภัย ส่วนกลาง, กรุงเทพมหานคร',\n",
       "       'สำนักการโยธา กทม., ฝ่ายโยธา เขตบางแค, ศูนย์ก่อสร้างและบูรณะถนน 1 ส่วนก่อสร้างและบูรณะ 2 สำนักงานก่อสร้างและบูรณะ (สกบ.สนย.), เขตบางแค, สำนักงานก่อสร้างและบูรณะ สำนักการโยธา (สกบ.สนย.) กทม., เพื่อนชัชชาติ, กรุงเทพมหานคร'],\n",
       "      dtype=object)"
      ]
     },
     "execution_count": 18,
     "metadata": {},
     "output_type": "execute_result"
    }
   ],
   "source": [
    "cases['organization_action'].unique()"
   ]
  },
  {
   "cell_type": "code",
   "execution_count": 21,
   "metadata": {},
   "outputs": [
    {
     "data": {
      "text/plain": [
       "organization_action\n",
       "ฝ่ายเทศกิจ เขตสาทร, เขตสาทร, กรุงเทพมหานคร                                                                                                                                                                                                       2343\n",
       "เขตบางเขน, กลุ่มกรุงเทพเหนือ (นางวันทนีย์ วัฒนะ), ผอ.เขตบางเขน (น.ส.อัญชนา), กรุงเทพมหานคร, เพื่อนชัชชาติ                                                                                                                                        2135\n",
       "เขตบางขุนเทียน, กลุ่มกรุงธนใต้ (นายเฉลิมพล โชตินุชิต), ผอ.เขตบางขุนเทียน (นางภัสรา), กรุงเทพมหานคร, เพื่อนชัชชาติ                                                                                                                                2008\n",
       "ฝ่ายเทศกิจ เขตปทุมวัน, เขตปทุมวัน, กรุงเทพมหานคร                                                                                                                                                                                                 1906\n",
       "เขตหนองจอก, กรุงเทพมหานคร                                                                                                                                                                                                                        1731\n",
       "                                                                                                                                                                                                                                                 ... \n",
       "สำนักการโยธา กทม., เขตห้วยขวาง, การทางพิเศษแห่งประเทศไทย, สำนักงานก่อสร้างและบูรณะ สำนักการโยธา (สกบ.สนย.) กทม., รองปลัดฯ นายณรงค์ เรืองศรี, กรุงเทพมหานคร, เพื่อนชัชชาติ                                                                           1\n",
       "งานสายตรวจ 1 กองกำกับการ 1 กองบังคับการตำรวจจราจร (งานสายตรวจ 1 กก.1 บก.จร.), กองกำกับการ 1 (สายตรวจ) กองบังคับการตำรวจจราจร (กก.1 บก.จร.), กรมทางหลวง, เขตพญาไท, กรมการปกครอง, กองบังคับการตำรวจจราจร (บก.จร.), กรุงเทพมหานคร, เพื่อนชัชชาติ       1\n",
       "กลุ่มงานบูรณะสะพานและทางโครงสร้างพิเศษ สำนักงานวิศวกรรมทาง (สวก.สนย.), สำนักการโยธา กทม., เขตคลองเตย, สำนักงานวิศวกรรมทาง สำนักการโยธา (สวก.สนย.) กทม., รองปลัดฯ นายณรงค์ เรืองศรี, กรุงเทพมหานคร, เพื่อนชัชชาติ                                    1\n",
       "กลุ่มงานวางแผนและออกแบบ 1, สำนักการจราจรและขนส่ง กรุงเทพมหานคร (สจส.), เขตจตุจักร, รองปลัดฯ นายณรงค์ เรืองศรี, ฝ่ายโยธา เขตจตุจักร, เพื่อนชัชชาติ, กรุงเทพมหานคร                                                                                    1\n",
       "สำนักการโยธา กทม., ฝ่ายโยธา เขตบางแค, ศูนย์ก่อสร้างและบูรณะถนน 1 ส่วนก่อสร้างและบูรณะ 2 สำนักงานก่อสร้างและบูรณะ (สกบ.สนย.), เขตบางแค, สำนักงานก่อสร้างและบูรณะ สำนักการโยธา (สกบ.สนย.) กทม., เพื่อนชัชชาติ, กรุงเทพมหานคร                          1\n",
       "Name: count, Length: 154150, dtype: int64"
      ]
     },
     "execution_count": 21,
     "metadata": {},
     "output_type": "execute_result"
    }
   ],
   "source": [
    "cases['organization_action'].value_counts()"
   ]
  },
  {
   "cell_type": "code",
   "execution_count": 29,
   "metadata": {},
   "outputs": [],
   "source": [
    "cases['organization_action'] = cases['organization_action'].apply(makeList)\n",
    "cases = cases.explode('organization_action')"
   ]
  },
  {
   "cell_type": "code",
   "execution_count": 30,
   "metadata": {},
   "outputs": [
    {
     "data": {
      "text/plain": [
       "organization_action\n",
       "กรุงเทพมหานคร                                761957\n",
       "เพื่อนชัชชาติ                                531159\n",
       "ร้องทุกข์ กทม. 1555                          121785\n",
       "สำนักงานตำรวจแห่งชาติ (Royal Thai Police)     80191\n",
       "กองบัญชาการตำรวจนครบาล (บช.น.)                80085\n",
       "                                              ...  \n",
       "เทศบาลตำบลพิมพา จ.ฉะเชิงเทรา                      1\n",
       "งานซ่อมท่อ HDD ลอดคลองบางบัว ฝอบ. กฟน.            1\n",
       "สบก.สสภ.                                          1\n",
       "ทีมแก้ไขข้อผิดพลาดและปัญหาการทำงาน                1\n",
       "อำเภอเมืองศรีสะเกษ                                1\n",
       "Name: count, Length: 3376, dtype: int64"
      ]
     },
     "execution_count": 30,
     "metadata": {},
     "output_type": "execute_result"
    }
   ],
   "source": [
    "cases['organization_action'].value_counts()"
   ]
  },
  {
   "cell_type": "code",
   "execution_count": 33,
   "metadata": {},
   "outputs": [
    {
     "data": {
      "text/plain": [
       "array(['เขตบางพลัด', ' กรุงเทพมหานคร', 'เขตสาทร', ...,\n",
       "       ' อบต.หญ้าปล้อง จ.ศรีสะเกษ', ' จังหวัดศรีสะเกษ',\n",
       "       ' อำเภอเมืองศรีสะเกษ'], dtype=object)"
      ]
     },
     "execution_count": 33,
     "metadata": {},
     "output_type": "execute_result"
    }
   ],
   "source": [
    "cases['organization_action'].unique()"
   ]
  },
  {
   "cell_type": "code",
   "execution_count": 35,
   "metadata": {},
   "outputs": [
    {
     "data": {
      "text/plain": [
       "comment\n",
       "ไม่แสดงรายละเอียด                                                                                              128890\n",
       "น้ำท่วม                                                                                                          6989\n",
       "ป้ายกองโจร                                                                                                       6941\n",
       "ถนนเป็นหลุม                                                                                                      6089\n",
       "ทางเท้าชำรุด                                                                                                     5765\n",
       "                                                                                                                ...  \n",
       "ทดลองน้ำท่วม                                                                                                        1\n",
       "https://storage.googleapis.com/traffy_public_bucket/attachment/2024-10/fd648005c426f38dfa1cc9a1f7a3cf1e.png         1\n",
       "ฟุตบาทแตกชำรุด เนื่องจากมีรถขนของขึ้นลง                                                                             1\n",
       "ประเภทมีกลิ่นขยะรบกวนมั้ยครับ                                                                                       1\n",
       "10/12/67 ป้ายหมดสภาพแล้วครับ                                                                                        1\n",
       "Name: count, Length: 655943, dtype: int64"
      ]
     },
     "execution_count": 35,
     "metadata": {},
     "output_type": "execute_result"
    }
   ],
   "source": [
    "cases['comment'].value_counts()"
   ]
  },
  {
   "cell_type": "code",
   "execution_count": null,
   "metadata": {},
   "outputs": [],
   "source": []
  }
 ],
 "metadata": {
  "kernelspec": {
   "display_name": "Python 3",
   "language": "python",
   "name": "python3"
  },
  "language_info": {
   "codemirror_mode": {
    "name": "ipython",
    "version": 3
   },
   "file_extension": ".py",
   "mimetype": "text/x-python",
   "name": "python",
   "nbconvert_exporter": "python",
   "pygments_lexer": "ipython3",
   "version": "3.12.1"
  }
 },
 "nbformat": 4,
 "nbformat_minor": 2
}
