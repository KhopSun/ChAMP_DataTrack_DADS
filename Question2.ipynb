{
 "cells": [
  {
   "cell_type": "markdown",
   "metadata": {},
   "source": [
    "## Question 2:\n",
    "* Which problems can be solved quickly but have not been solved?\n",
    "* Can you pinpoint the reason why? "
   ]
  },
  {
   "cell_type": "markdown",
   "metadata": {},
   "source": [
    "## Import Libraries"
   ]
  },
  {
   "cell_type": "code",
   "execution_count": 41,
   "metadata": {},
   "outputs": [],
   "source": [
    "import pandas as pd\n",
    "import numpy as np\n",
    "import seaborn as sns"
   ]
  },
  {
   "cell_type": "markdown",
   "metadata": {},
   "source": [
    "## Functions"
   ]
  },
  {
   "cell_type": "code",
   "execution_count": 42,
   "metadata": {},
   "outputs": [],
   "source": [
    "import numpy as np\n",
    "def makeList(x):\n",
    "    if isinstance(x,list):\n",
    "        return x\n",
    "    elif isinstance(x,str):\n",
    "        return x.split(',')\n",
    "    else: return np.nan\n",
    "\n",
    "# the_df.type = the_df.type.apply(makelist)\n",
    "# the_df = the_df.explode('type')"
   ]
  },
  {
   "cell_type": "code",
   "execution_count": 43,
   "metadata": {},
   "outputs": [
    {
     "name": "stdout",
     "output_type": "stream",
     "text": [
      "Address: Error: 400, {\n",
      "   \"error_message\" : \"Invalid request. Invalid 'latlng' parameter.\",\n",
      "   \"results\" : [],\n",
      "   \"status\" : \"INVALID_REQUEST\"\n",
      "}\n"
     ]
    }
   ],
   "source": [
    "import requests\n",
    "def reverse_geocode(lat, lng, api_key):\n",
    "    # Base URL for the API\n",
    "    url = \"https://maps.googleapis.com/maps/api/geocode/json\"\n",
    "    \n",
    "    # Parameters for the request\n",
    "    params = {\n",
    "        \"latlng\": f\"{lat},{lng}\",\n",
    "        \"key\": api_key\n",
    "    }\n",
    "    \n",
    "    # Make the GET request\n",
    "    response = requests.get(url, params=params)\n",
    "    \n",
    "    # Parse the JSON response\n",
    "    if response.status_code == 200:\n",
    "        data = response.json()\n",
    "        if data.get('results'):\n",
    "            return data['results'][0]['formatted_address']\n",
    "        else:\n",
    "            return \"No address found for the given coordinates.\"\n",
    "    else:\n",
    "        return f\"Error: {response.status_code}, {response.text}\"\n",
    "\n",
    "# Example usage\n",
    "latitude = 100.48093\n",
    "longitude = 13.75001\n",
    "your_api_key = \"YOUR_API_KEY\"\n",
    "address = reverse_geocode(latitude, longitude, your_api_key)\n",
    "print(f\"Address: {address}\")"
   ]
  },
  {
   "cell_type": "code",
   "execution_count": 44,
   "metadata": {},
   "outputs": [
    {
     "name": "stdout",
     "output_type": "stream",
     "text": [
      "Region: None, Province: None\n"
     ]
    }
   ],
   "source": [
    "import requests\n",
    "def get_location_from_coordinates(lat, lon):\n",
    "    url = f\"https://nominatim.openstreetmap.org/reverse\"\n",
    "    params = {\n",
    "        'lat': lat,\n",
    "        'lon': lon,\n",
    "        'format': 'json',\n",
    "    }\n",
    "    response = requests.get(url, params=params)\n",
    "    \n",
    "    if response.status_code == 200:\n",
    "        data = response.json()\n",
    "        address = data.get(\"address\", {})\n",
    "        region = address.get(\"state\", \"Region not found\")\n",
    "        province = address.get(\"county\", \"Province not found\")\n",
    "        return region, province\n",
    "    else:\n",
    "        return None, None\n",
    "\n",
    "# Example usage\n",
    "latitude = 100.5018\n",
    "longitude = 13.7563\n",
    "region, province = get_location_from_coordinates(latitude, longitude)\n",
    "print(f\"Region: {region}, Province: {province}\")\n"
   ]
  },
  {
   "cell_type": "code",
   "execution_count": 45,
   "metadata": {},
   "outputs": [
    {
     "name": "stdout",
     "output_type": "stream",
     "text": [
      "Region: Region not found, Province: Province not found\n"
     ]
    }
   ],
   "source": [
    "import geopy\n",
    "from geopy.geocoders import Nominatim \n",
    "import ssl\n",
    "import certifi\n",
    "from geopy.adapters import AioHTTPAdapter\n",
    "from geopy.geocoders import options\n",
    "def get_location_with_geopy(lat, lon):\n",
    "    ctx = ssl.create_default_context(cafile=certifi.where())\n",
    "    geopy.geocoders.options.default_ssl_context = ctx   \n",
    "    geolocator = Nominatim(user_agent=\"geoapi\")\n",
    "    location = geolocator.reverse((lat, lon), language=\"en\")\n",
    "    if location and location.raw.get(\"address\"):\n",
    "        address = location.raw[\"address\"]\n",
    "        region = address.get(\"state\", \"Region not found\")\n",
    "        province = address.get(\"county\", \"Province not found\")\n",
    "        return region, province\n",
    "    return None, None\n",
    "\n",
    "# Example usage\n",
    "latitude = 13.7563\n",
    "longitude = 100.5018 \n",
    "region, province = get_location_with_geopy(latitude, longitude)\n",
    "print(f\"Region: {region}, Province: {province}\")"
   ]
  },
  {
   "cell_type": "markdown",
   "metadata": {},
   "source": [
    "## EDA"
   ]
  },
  {
   "cell_type": "code",
   "execution_count": 46,
   "metadata": {},
   "outputs": [],
   "source": [
    "cases = pd.read_csv('Traffy_Cases_from_2022-05-22_to_2024-12-11.csv')"
   ]
  },
  {
   "cell_type": "code",
   "execution_count": 47,
   "metadata": {},
   "outputs": [],
   "source": [
    "logs = pd.read_csv('Log_from_2022-05-22_to_2024-12-11.csv')"
   ]
  },
  {
   "cell_type": "code",
   "execution_count": 48,
   "metadata": {},
   "outputs": [
    {
     "data": {
      "text/plain": [
       "(772938, 16)"
      ]
     },
     "metadata": {},
     "output_type": "display_data"
    },
    {
     "data": {
      "text/plain": [
       "(2035022, 3)"
      ]
     },
     "metadata": {},
     "output_type": "display_data"
    }
   ],
   "source": [
    "display(cases.shape)\n",
    "display(logs.shape)"
   ]
  },
  {
   "cell_type": "code",
   "execution_count": 49,
   "metadata": {},
   "outputs": [
    {
     "name": "stdout",
     "output_type": "stream",
     "text": [
      "<class 'pandas.core.frame.DataFrame'>\n",
      "RangeIndex: 772938 entries, 0 to 772937\n",
      "Data columns (total 16 columns):\n",
      " #   Column               Non-Null Count   Dtype  \n",
      "---  ------               --------------   -----  \n",
      " 0   ticket_id            772938 non-null  object \n",
      " 1   type                 772937 non-null  object \n",
      " 2   organization_action  772937 non-null  object \n",
      " 3   comment              772937 non-null  object \n",
      " 4   coords               772935 non-null  object \n",
      " 5   photo                772838 non-null  object \n",
      " 6   photo_after          614548 non-null  object \n",
      " 7   address              772935 non-null  object \n",
      " 8   subdistrict          772495 non-null  object \n",
      " 9   district             772492 non-null  object \n",
      " 10  province             772866 non-null  object \n",
      " 11  state                772935 non-null  object \n",
      " 12  star                 263926 non-null  float64\n",
      " 13  count_reopen         772933 non-null  float64\n",
      " 14  last_activity        772931 non-null  object \n",
      " 15  view_count           772933 non-null  float64\n",
      "dtypes: float64(3), object(13)\n",
      "memory usage: 94.4+ MB\n"
     ]
    }
   ],
   "source": [
    "cases.info()"
   ]
  },
  {
   "cell_type": "code",
   "execution_count": 50,
   "metadata": {},
   "outputs": [
    {
     "name": "stdout",
     "output_type": "stream",
     "text": [
      "<class 'pandas.core.frame.DataFrame'>\n",
      "RangeIndex: 2035022 entries, 0 to 2035021\n",
      "Data columns (total 3 columns):\n",
      " #   Column     Dtype \n",
      "---  ------     ----- \n",
      " 0   ticket_id  object\n",
      " 1   state      object\n",
      " 2   timestamp  object\n",
      "dtypes: object(3)\n",
      "memory usage: 46.6+ MB\n"
     ]
    }
   ],
   "source": [
    "logs.info()"
   ]
  },
  {
   "cell_type": "code",
   "execution_count": 51,
   "metadata": {},
   "outputs": [
    {
     "data": {
      "text/html": [
       "<div>\n",
       "<style scoped>\n",
       "    .dataframe tbody tr th:only-of-type {\n",
       "        vertical-align: middle;\n",
       "    }\n",
       "\n",
       "    .dataframe tbody tr th {\n",
       "        vertical-align: top;\n",
       "    }\n",
       "\n",
       "    .dataframe thead th {\n",
       "        text-align: right;\n",
       "    }\n",
       "</style>\n",
       "<table border=\"1\" class=\"dataframe\">\n",
       "  <thead>\n",
       "    <tr style=\"text-align: right;\">\n",
       "      <th></th>\n",
       "      <th>ticket_id</th>\n",
       "      <th>type</th>\n",
       "      <th>organization_action</th>\n",
       "      <th>comment</th>\n",
       "      <th>coords</th>\n",
       "      <th>photo</th>\n",
       "      <th>photo_after</th>\n",
       "      <th>address</th>\n",
       "      <th>subdistrict</th>\n",
       "      <th>district</th>\n",
       "      <th>province</th>\n",
       "      <th>state</th>\n",
       "      <th>star</th>\n",
       "      <th>count_reopen</th>\n",
       "      <th>last_activity</th>\n",
       "      <th>view_count</th>\n",
       "    </tr>\n",
       "  </thead>\n",
       "  <tbody>\n",
       "    <tr>\n",
       "      <th>0</th>\n",
       "      <td>2024-6UUBZ2</td>\n",
       "      <td>เสียง</td>\n",
       "      <td>เขตบางพลัด, กรุงเทพมหานคร</td>\n",
       "      <td>เพื่อนบ้านเปิดเพลงเสียงดังรบกวนผ่านเครื่องขยาย...</td>\n",
       "      <td>100.49996,13.79136</td>\n",
       "      <td>https://storage.googleapis.com/traffy_public_b...</td>\n",
       "      <td>NaN</td>\n",
       "      <td>155 ซอย จรัญสนิทวงศ์ 79 แขวงบางพลัด เขตบางพลัด...</td>\n",
       "      <td>บางพลัด</td>\n",
       "      <td>บางพลัด</td>\n",
       "      <td>กรุงเทพมหานคร</td>\n",
       "      <td>start</td>\n",
       "      <td>NaN</td>\n",
       "      <td>0.0</td>\n",
       "      <td>2024-12-11 20:14:22</td>\n",
       "      <td>0.0</td>\n",
       "    </tr>\n",
       "    <tr>\n",
       "      <th>1</th>\n",
       "      <td>2024-CYP76V</td>\n",
       "      <td>ผิดกฎจราจร</td>\n",
       "      <td>เขตสาทร, กรุงเทพมหานคร</td>\n",
       "      <td>เรียนท่านผู้ว่าก.ท.ม\\nถึงก่อนปากซอยจันทร์18/7ใ...</td>\n",
       "      <td>100.5263,13.70647</td>\n",
       "      <td>https://storage.googleapis.com/traffy_public_b...</td>\n",
       "      <td>NaN</td>\n",
       "      <td>308 ถ. จันทน์ แขวงทุ่งวัดดอน เขตสาทร กรุงเทพมห...</td>\n",
       "      <td>ทุ่งวัดดอน</td>\n",
       "      <td>สาทร</td>\n",
       "      <td>กรุงเทพมหานคร</td>\n",
       "      <td>start</td>\n",
       "      <td>NaN</td>\n",
       "      <td>0.0</td>\n",
       "      <td>2024-12-11 20:14:14</td>\n",
       "      <td>0.0</td>\n",
       "    </tr>\n",
       "    <tr>\n",
       "      <th>2</th>\n",
       "      <td>2024-8U78XH</td>\n",
       "      <td>ผิดกฎจราจร</td>\n",
       "      <td>เขตสาทร, กรุงเทพมหานคร</td>\n",
       "      <td>จัดงานตลาดนัด จัดระเบียบได้ดีให้รถมอเตอร์ไซค์เ...</td>\n",
       "      <td>100.52758,13.70599</td>\n",
       "      <td>https://storage.googleapis.com/traffy_public_b...</td>\n",
       "      <td>NaN</td>\n",
       "      <td>1928/3 ซอย จันทน์ 23/2 แขวงทุ่งวัดดอน เขตสาทร ...</td>\n",
       "      <td>ทุ่งวัดดอน</td>\n",
       "      <td>สาทร</td>\n",
       "      <td>กรุงเทพมหานคร</td>\n",
       "      <td>start</td>\n",
       "      <td>NaN</td>\n",
       "      <td>0.0</td>\n",
       "      <td>2024-12-11 20:09:51</td>\n",
       "      <td>0.0</td>\n",
       "    </tr>\n",
       "    <tr>\n",
       "      <th>3</th>\n",
       "      <td>RXTPAP</td>\n",
       "      <td>ฝุ่นควัน&amp;กลิ่น&amp;PM2.5</td>\n",
       "      <td>เขตบางบอน, กรุงเทพมหานคร, ร้องทุกข์ กทม. 1555</td>\n",
       "      <td>ปัญหา: บริเวณหน้าบ้านเลขที่ดังกล่าว พบผู้อาศัย...</td>\n",
       "      <td>100.44078,13.68686</td>\n",
       "      <td>https://storage.googleapis.com/traffy_public_b...</td>\n",
       "      <td>NaN</td>\n",
       "      <td>10/101 ซอย เอกชัย 46 แขวงคลองบางพราน เขตบางบอน...</td>\n",
       "      <td>คลองบางพราน</td>\n",
       "      <td>บางบอน</td>\n",
       "      <td>กรุงเทพมหานคร</td>\n",
       "      <td>forward</td>\n",
       "      <td>NaN</td>\n",
       "      <td>0.0</td>\n",
       "      <td>2024-12-11 20:09:11</td>\n",
       "      <td>0.0</td>\n",
       "    </tr>\n",
       "    <tr>\n",
       "      <th>4</th>\n",
       "      <td>2024-78EH2R</td>\n",
       "      <td>อื่นๆ</td>\n",
       "      <td>เขตราชเทวี, กรุงเทพมหานคร</td>\n",
       "      <td>จอด</td>\n",
       "      <td>100.53401,13.75657</td>\n",
       "      <td>https://storage.googleapis.com/traffy_public_b...</td>\n",
       "      <td>NaN</td>\n",
       "      <td>BTS Phaya Thai Phaya Thai Road Thanon Phaya Th...</td>\n",
       "      <td>ถนนพญาไท</td>\n",
       "      <td>ราชเทวี</td>\n",
       "      <td>กรุงเทพมหานคร</td>\n",
       "      <td>start</td>\n",
       "      <td>NaN</td>\n",
       "      <td>0.0</td>\n",
       "      <td>2024-12-11 20:08:41</td>\n",
       "      <td>0.0</td>\n",
       "    </tr>\n",
       "  </tbody>\n",
       "</table>\n",
       "</div>"
      ],
      "text/plain": [
       "     ticket_id                  type  \\\n",
       "0  2024-6UUBZ2                 เสียง   \n",
       "1  2024-CYP76V            ผิดกฎจราจร   \n",
       "2  2024-8U78XH            ผิดกฎจราจร   \n",
       "3       RXTPAP  ฝุ่นควัน&กลิ่น&PM2.5   \n",
       "4  2024-78EH2R                 อื่นๆ   \n",
       "\n",
       "                             organization_action  \\\n",
       "0                      เขตบางพลัด, กรุงเทพมหานคร   \n",
       "1                         เขตสาทร, กรุงเทพมหานคร   \n",
       "2                         เขตสาทร, กรุงเทพมหานคร   \n",
       "3  เขตบางบอน, กรุงเทพมหานคร, ร้องทุกข์ กทม. 1555   \n",
       "4                      เขตราชเทวี, กรุงเทพมหานคร   \n",
       "\n",
       "                                             comment              coords  \\\n",
       "0  เพื่อนบ้านเปิดเพลงเสียงดังรบกวนผ่านเครื่องขยาย...  100.49996,13.79136   \n",
       "1  เรียนท่านผู้ว่าก.ท.ม\\nถึงก่อนปากซอยจันทร์18/7ใ...   100.5263,13.70647   \n",
       "2  จัดงานตลาดนัด จัดระเบียบได้ดีให้รถมอเตอร์ไซค์เ...  100.52758,13.70599   \n",
       "3  ปัญหา: บริเวณหน้าบ้านเลขที่ดังกล่าว พบผู้อาศัย...  100.44078,13.68686   \n",
       "4                                                จอด  100.53401,13.75657   \n",
       "\n",
       "                                               photo photo_after  \\\n",
       "0  https://storage.googleapis.com/traffy_public_b...         NaN   \n",
       "1  https://storage.googleapis.com/traffy_public_b...         NaN   \n",
       "2  https://storage.googleapis.com/traffy_public_b...         NaN   \n",
       "3  https://storage.googleapis.com/traffy_public_b...         NaN   \n",
       "4  https://storage.googleapis.com/traffy_public_b...         NaN   \n",
       "\n",
       "                                             address  subdistrict district  \\\n",
       "0  155 ซอย จรัญสนิทวงศ์ 79 แขวงบางพลัด เขตบางพลัด...      บางพลัด  บางพลัด   \n",
       "1  308 ถ. จันทน์ แขวงทุ่งวัดดอน เขตสาทร กรุงเทพมห...   ทุ่งวัดดอน     สาทร   \n",
       "2  1928/3 ซอย จันทน์ 23/2 แขวงทุ่งวัดดอน เขตสาทร ...   ทุ่งวัดดอน     สาทร   \n",
       "3  10/101 ซอย เอกชัย 46 แขวงคลองบางพราน เขตบางบอน...  คลองบางพราน   บางบอน   \n",
       "4  BTS Phaya Thai Phaya Thai Road Thanon Phaya Th...     ถนนพญาไท  ราชเทวี   \n",
       "\n",
       "        province    state  star  count_reopen        last_activity  view_count  \n",
       "0  กรุงเทพมหานคร    start   NaN           0.0  2024-12-11 20:14:22         0.0  \n",
       "1  กรุงเทพมหานคร    start   NaN           0.0  2024-12-11 20:14:14         0.0  \n",
       "2  กรุงเทพมหานคร    start   NaN           0.0  2024-12-11 20:09:51         0.0  \n",
       "3  กรุงเทพมหานคร  forward   NaN           0.0  2024-12-11 20:09:11         0.0  \n",
       "4  กรุงเทพมหานคร    start   NaN           0.0  2024-12-11 20:08:41         0.0  "
      ]
     },
     "execution_count": 51,
     "metadata": {},
     "output_type": "execute_result"
    }
   ],
   "source": [
    "cases.head()"
   ]
  },
  {
   "cell_type": "code",
   "execution_count": 52,
   "metadata": {},
   "outputs": [
    {
     "data": {
      "text/html": [
       "<div>\n",
       "<style scoped>\n",
       "    .dataframe tbody tr th:only-of-type {\n",
       "        vertical-align: middle;\n",
       "    }\n",
       "\n",
       "    .dataframe tbody tr th {\n",
       "        vertical-align: top;\n",
       "    }\n",
       "\n",
       "    .dataframe thead th {\n",
       "        text-align: right;\n",
       "    }\n",
       "</style>\n",
       "<table border=\"1\" class=\"dataframe\">\n",
       "  <thead>\n",
       "    <tr style=\"text-align: right;\">\n",
       "      <th></th>\n",
       "      <th>ticket_id</th>\n",
       "      <th>state</th>\n",
       "      <th>timestamp</th>\n",
       "    </tr>\n",
       "  </thead>\n",
       "  <tbody>\n",
       "    <tr>\n",
       "      <th>0</th>\n",
       "      <td>2024-6UUBZ2</td>\n",
       "      <td>reported</td>\n",
       "      <td>2024-12-11 20:14:18</td>\n",
       "    </tr>\n",
       "    <tr>\n",
       "      <th>1</th>\n",
       "      <td>2024-CYP76V</td>\n",
       "      <td>reported</td>\n",
       "      <td>2024-12-11 20:14:08</td>\n",
       "    </tr>\n",
       "    <tr>\n",
       "      <th>2</th>\n",
       "      <td>2024-8U78XH</td>\n",
       "      <td>reported</td>\n",
       "      <td>2024-12-11 20:09:46</td>\n",
       "    </tr>\n",
       "    <tr>\n",
       "      <th>3</th>\n",
       "      <td>RXTPAP</td>\n",
       "      <td>reported</td>\n",
       "      <td>2024-12-11 20:09:08</td>\n",
       "    </tr>\n",
       "    <tr>\n",
       "      <th>4</th>\n",
       "      <td>2024-78EH2R</td>\n",
       "      <td>reported</td>\n",
       "      <td>2024-12-11 20:08:36</td>\n",
       "    </tr>\n",
       "  </tbody>\n",
       "</table>\n",
       "</div>"
      ],
      "text/plain": [
       "     ticket_id     state            timestamp\n",
       "0  2024-6UUBZ2  reported  2024-12-11 20:14:18\n",
       "1  2024-CYP76V  reported  2024-12-11 20:14:08\n",
       "2  2024-8U78XH  reported  2024-12-11 20:09:46\n",
       "3       RXTPAP  reported  2024-12-11 20:09:08\n",
       "4  2024-78EH2R  reported  2024-12-11 20:08:36"
      ]
     },
     "execution_count": 52,
     "metadata": {},
     "output_type": "execute_result"
    }
   ],
   "source": [
    "logs.head()"
   ]
  },
  {
   "cell_type": "markdown",
   "metadata": {},
   "source": [
    "### Null Values"
   ]
  },
  {
   "cell_type": "code",
   "execution_count": 53,
   "metadata": {},
   "outputs": [
    {
     "data": {
      "text/plain": [
       "<Axes: >"
      ]
     },
     "execution_count": 53,
     "metadata": {},
     "output_type": "execute_result"
    },
    {
     "data": {
      "image/png": "[encoded data removed]",
      "text/plain": [
       "<Figure size 640x480 with 2 Axes>"
      ]
     },
     "metadata": {},
     "output_type": "display_data"
    }
   ],
   "source": [
    "# Use heatmap to visualize null values\n",
    "sns.heatmap(cases.isnull(), cmap='viridis')"
   ]
  },
  {
   "cell_type": "markdown",
   "metadata": {},
   "source": [
    "#### organization_action"
   ]
  },
  {
   "cell_type": "code",
   "execution_count": 54,
   "metadata": {},
   "outputs": [
    {
     "data": {
      "text/plain": [
       "ticket_id                   0\n",
       "type                        1\n",
       "organization_action         1\n",
       "comment                     1\n",
       "coords                      3\n",
       "photo                     100\n",
       "photo_after            158390\n",
       "address                     3\n",
       "subdistrict               443\n",
       "district                  446\n",
       "province                   72\n",
       "state                       3\n",
       "star                   509012\n",
       "count_reopen                5\n",
       "last_activity               7\n",
       "view_count                  5\n",
       "dtype: int64"
      ]
     },
     "execution_count": 54,
     "metadata": {},
     "output_type": "execute_result"
    }
   ],
   "source": [
    "cases.isnull().sum()"
   ]
  },
  {
   "cell_type": "code",
   "execution_count": 55,
   "metadata": {},
   "outputs": [
    {
     "data": {
      "text/html": [
       "<div>\n",
       "<style scoped>\n",
       "    .dataframe tbody tr th:only-of-type {\n",
       "        vertical-align: middle;\n",
       "    }\n",
       "\n",
       "    .dataframe tbody tr th {\n",
       "        vertical-align: top;\n",
       "    }\n",
       "\n",
       "    .dataframe thead th {\n",
       "        text-align: right;\n",
       "    }\n",
       "</style>\n",
       "<table border=\"1\" class=\"dataframe\">\n",
       "  <thead>\n",
       "    <tr style=\"text-align: right;\">\n",
       "      <th></th>\n",
       "      <th>ticket_id</th>\n",
       "      <th>type</th>\n",
       "      <th>organization_action</th>\n",
       "      <th>comment</th>\n",
       "      <th>coords</th>\n",
       "      <th>photo</th>\n",
       "      <th>photo_after</th>\n",
       "      <th>address</th>\n",
       "      <th>subdistrict</th>\n",
       "      <th>district</th>\n",
       "      <th>province</th>\n",
       "      <th>state</th>\n",
       "      <th>star</th>\n",
       "      <th>count_reopen</th>\n",
       "      <th>last_activity</th>\n",
       "      <th>view_count</th>\n",
       "    </tr>\n",
       "  </thead>\n",
       "  <tbody>\n",
       "    <tr>\n",
       "      <th>407188</th>\n",
       "      <td>และความเป็นระเบียบเรียบร้อยของบ้านเมือง</td>\n",
       "      <td>NaN</td>\n",
       "      <td>NaN</td>\n",
       "      <td>NaN</td>\n",
       "      <td>NaN</td>\n",
       "      <td>NaN</td>\n",
       "      <td>NaN</td>\n",
       "      <td>NaN</td>\n",
       "      <td>NaN</td>\n",
       "      <td>NaN</td>\n",
       "      <td>NaN</td>\n",
       "      <td>NaN</td>\n",
       "      <td>NaN</td>\n",
       "      <td>NaN</td>\n",
       "      <td>NaN</td>\n",
       "      <td>NaN</td>\n",
       "    </tr>\n",
       "  </tbody>\n",
       "</table>\n",
       "</div>"
      ],
      "text/plain": [
       "                                      ticket_id type organization_action  \\\n",
       "407188  และความเป็นระเบียบเรียบร้อยของบ้านเมือง  NaN                 NaN   \n",
       "\n",
       "       comment coords photo photo_after address subdistrict district province  \\\n",
       "407188     NaN    NaN   NaN         NaN     NaN         NaN      NaN      NaN   \n",
       "\n",
       "       state  star  count_reopen last_activity  view_count  \n",
       "407188   NaN   NaN           NaN           NaN         NaN  "
      ]
     },
     "execution_count": 55,
     "metadata": {},
     "output_type": "execute_result"
    }
   ],
   "source": [
    "cases.loc[cases['organization_action'].isnull()]"
   ]
  },
  {
   "cell_type": "code",
   "execution_count": 56,
   "metadata": {},
   "outputs": [
    {
     "data": {
      "text/plain": [
       "(772937, 16)"
      ]
     },
     "metadata": {},
     "output_type": "display_data"
    }
   ],
   "source": [
    "cases.dropna(subset=['organization_action'], inplace=True)\n",
    "display(cases.shape)"
   ]
  },
  {
   "cell_type": "markdown",
   "metadata": {},
   "source": [
    "#### coords"
   ]
  },
  {
   "cell_type": "code",
   "execution_count": 57,
   "metadata": {},
   "outputs": [
    {
     "data": {
      "text/plain": [
       "ticket_id                   0\n",
       "type                        0\n",
       "organization_action         0\n",
       "comment                     0\n",
       "coords                      2\n",
       "photo                      99\n",
       "photo_after            158389\n",
       "address                     2\n",
       "subdistrict               442\n",
       "district                  445\n",
       "province                   71\n",
       "state                       2\n",
       "star                   509011\n",
       "count_reopen                4\n",
       "last_activity               6\n",
       "view_count                  4\n",
       "dtype: int64"
      ]
     },
     "execution_count": 57,
     "metadata": {},
     "output_type": "execute_result"
    }
   ],
   "source": [
    "cases.isnull().sum()"
   ]
  },
  {
   "cell_type": "code",
   "execution_count": 58,
   "metadata": {},
   "outputs": [
    {
     "data": {
      "text/html": [
       "<div>\n",
       "<style scoped>\n",
       "    .dataframe tbody tr th:only-of-type {\n",
       "        vertical-align: middle;\n",
       "    }\n",
       "\n",
       "    .dataframe tbody tr th {\n",
       "        vertical-align: top;\n",
       "    }\n",
       "\n",
       "    .dataframe thead th {\n",
       "        text-align: right;\n",
       "    }\n",
       "</style>\n",
       "<table border=\"1\" class=\"dataframe\">\n",
       "  <thead>\n",
       "    <tr style=\"text-align: right;\">\n",
       "      <th></th>\n",
       "      <th>ticket_id</th>\n",
       "      <th>type</th>\n",
       "      <th>organization_action</th>\n",
       "      <th>comment</th>\n",
       "      <th>coords</th>\n",
       "      <th>photo</th>\n",
       "      <th>photo_after</th>\n",
       "      <th>address</th>\n",
       "      <th>subdistrict</th>\n",
       "      <th>district</th>\n",
       "      <th>province</th>\n",
       "      <th>state</th>\n",
       "      <th>star</th>\n",
       "      <th>count_reopen</th>\n",
       "      <th>last_activity</th>\n",
       "      <th>view_count</th>\n",
       "    </tr>\n",
       "  </thead>\n",
       "  <tbody>\n",
       "    <tr>\n",
       "      <th>94580</th>\n",
       "      <td>2024-LZ8TT4</td>\n",
       "      <td>ถนน</td>\n",
       "      <td>ฝ่ายรักษาความสะอาดฯ เขตวัฒนา, ฝ่ายโยธา เขตวัฒน...</td>\n",
       "      <td>ล้ำเข้ามาในเขตถนนเกือบ 1 เมตร ต้นไม้ปลูกในที่ส...</td>\n",
       "      <td>NaN</td>\n",
       "      <td>NaN</td>\n",
       "      <td>NaN</td>\n",
       "      <td>NaN</td>\n",
       "      <td>NaN</td>\n",
       "      <td>NaN</td>\n",
       "      <td>NaN</td>\n",
       "      <td>NaN</td>\n",
       "      <td>NaN</td>\n",
       "      <td>NaN</td>\n",
       "      <td>NaN</td>\n",
       "      <td>NaN</td>\n",
       "    </tr>\n",
       "    <tr>\n",
       "      <th>407187</th>\n",
       "      <td>2023-NYEK83</td>\n",
       "      <td>ทางเท้า</td>\n",
       "      <td>ฝ่ายเทศกิจ เขตป้อมปราบศัตรูพ่าย, เขตป้อมปราบศั...</td>\n",
       "      <td>ขอให้ท่านผู้ว่าราชการกรุงเทพมหานครช่วยดำเนินกา...</td>\n",
       "      <td>NaN</td>\n",
       "      <td>NaN</td>\n",
       "      <td>NaN</td>\n",
       "      <td>NaN</td>\n",
       "      <td>NaN</td>\n",
       "      <td>NaN</td>\n",
       "      <td>NaN</td>\n",
       "      <td>NaN</td>\n",
       "      <td>NaN</td>\n",
       "      <td>NaN</td>\n",
       "      <td>NaN</td>\n",
       "      <td>NaN</td>\n",
       "    </tr>\n",
       "  </tbody>\n",
       "</table>\n",
       "</div>"
      ],
      "text/plain": [
       "          ticket_id     type  \\\n",
       "94580   2024-LZ8TT4      ถนน   \n",
       "407187  2023-NYEK83  ทางเท้า   \n",
       "\n",
       "                                      organization_action  \\\n",
       "94580   ฝ่ายรักษาความสะอาดฯ เขตวัฒนา, ฝ่ายโยธา เขตวัฒน...   \n",
       "407187  ฝ่ายเทศกิจ เขตป้อมปราบศัตรูพ่าย, เขตป้อมปราบศั...   \n",
       "\n",
       "                                                  comment coords photo  \\\n",
       "94580   ล้ำเข้ามาในเขตถนนเกือบ 1 เมตร ต้นไม้ปลูกในที่ส...    NaN   NaN   \n",
       "407187  ขอให้ท่านผู้ว่าราชการกรุงเทพมหานครช่วยดำเนินกา...    NaN   NaN   \n",
       "\n",
       "       photo_after address subdistrict district province state  star  \\\n",
       "94580          NaN     NaN         NaN      NaN      NaN   NaN   NaN   \n",
       "407187         NaN     NaN         NaN      NaN      NaN   NaN   NaN   \n",
       "\n",
       "        count_reopen last_activity  view_count  \n",
       "94580            NaN           NaN         NaN  \n",
       "407187           NaN           NaN         NaN  "
      ]
     },
     "execution_count": 58,
     "metadata": {},
     "output_type": "execute_result"
    }
   ],
   "source": [
    "cases[cases['coords'].isnull()]"
   ]
  },
  {
   "cell_type": "code",
   "execution_count": 59,
   "metadata": {},
   "outputs": [
    {
     "data": {
      "text/plain": [
       "['2024-LZ8TT4', '2023-NYEK83']"
      ]
     },
     "execution_count": 59,
     "metadata": {},
     "output_type": "execute_result"
    }
   ],
   "source": [
    "cases[cases['coords'].isnull()]['ticket_id'].tolist()"
   ]
  },
  {
   "cell_type": "code",
   "execution_count": 60,
   "metadata": {},
   "outputs": [
    {
     "data": {
      "text/html": [
       "<div>\n",
       "<style scoped>\n",
       "    .dataframe tbody tr th:only-of-type {\n",
       "        vertical-align: middle;\n",
       "    }\n",
       "\n",
       "    .dataframe tbody tr th {\n",
       "        vertical-align: top;\n",
       "    }\n",
       "\n",
       "    .dataframe thead th {\n",
       "        text-align: right;\n",
       "    }\n",
       "</style>\n",
       "<table border=\"1\" class=\"dataframe\">\n",
       "  <thead>\n",
       "    <tr style=\"text-align: right;\">\n",
       "      <th></th>\n",
       "      <th>ticket_id</th>\n",
       "      <th>state</th>\n",
       "      <th>timestamp</th>\n",
       "    </tr>\n",
       "  </thead>\n",
       "  <tbody>\n",
       "    <tr>\n",
       "      <th>231876</th>\n",
       "      <td>2024-LZ8TT4</td>\n",
       "      <td>reported</td>\n",
       "      <td>2024-08-26 15:27:13</td>\n",
       "    </tr>\n",
       "    <tr>\n",
       "      <th>231877</th>\n",
       "      <td>2024-LZ8TT4</td>\n",
       "      <td>inprogress</td>\n",
       "      <td>2024-08-26 15:46:13</td>\n",
       "    </tr>\n",
       "    <tr>\n",
       "      <th>231878</th>\n",
       "      <td>2024-LZ8TT4</td>\n",
       "      <td>finish</td>\n",
       "      <td>2024-10-21 12:32:13</td>\n",
       "    </tr>\n",
       "  </tbody>\n",
       "</table>\n",
       "</div>"
      ],
      "text/plain": [
       "          ticket_id       state            timestamp\n",
       "231876  2024-LZ8TT4    reported  2024-08-26 15:27:13\n",
       "231877  2024-LZ8TT4  inprogress  2024-08-26 15:46:13\n",
       "231878  2024-LZ8TT4      finish  2024-10-21 12:32:13"
      ]
     },
     "execution_count": 60,
     "metadata": {},
     "output_type": "execute_result"
    }
   ],
   "source": [
    "logs[logs['ticket_id'] == '2024-LZ8TT4']"
   ]
  },
  {
   "cell_type": "code",
   "execution_count": 61,
   "metadata": {},
   "outputs": [
    {
     "data": {
      "text/html": [
       "<div>\n",
       "<style scoped>\n",
       "    .dataframe tbody tr th:only-of-type {\n",
       "        vertical-align: middle;\n",
       "    }\n",
       "\n",
       "    .dataframe tbody tr th {\n",
       "        vertical-align: top;\n",
       "    }\n",
       "\n",
       "    .dataframe thead th {\n",
       "        text-align: right;\n",
       "    }\n",
       "</style>\n",
       "<table border=\"1\" class=\"dataframe\">\n",
       "  <thead>\n",
       "    <tr style=\"text-align: right;\">\n",
       "      <th></th>\n",
       "      <th>ticket_id</th>\n",
       "      <th>state</th>\n",
       "      <th>timestamp</th>\n",
       "    </tr>\n",
       "  </thead>\n",
       "  <tbody>\n",
       "    <tr>\n",
       "      <th>1052756</th>\n",
       "      <td>2023-NYEK83</td>\n",
       "      <td>reported</td>\n",
       "      <td>2023-08-25 06:35:49</td>\n",
       "    </tr>\n",
       "    <tr>\n",
       "      <th>1052757</th>\n",
       "      <td>2023-NYEK83</td>\n",
       "      <td>inprogress</td>\n",
       "      <td>2023-08-25 08:58:49</td>\n",
       "    </tr>\n",
       "    <tr>\n",
       "      <th>1052758</th>\n",
       "      <td>2023-NYEK83</td>\n",
       "      <td>finish</td>\n",
       "      <td>2023-08-26 10:06:49</td>\n",
       "    </tr>\n",
       "  </tbody>\n",
       "</table>\n",
       "</div>"
      ],
      "text/plain": [
       "           ticket_id       state            timestamp\n",
       "1052756  2023-NYEK83    reported  2023-08-25 06:35:49\n",
       "1052757  2023-NYEK83  inprogress  2023-08-25 08:58:49\n",
       "1052758  2023-NYEK83      finish  2023-08-26 10:06:49"
      ]
     },
     "execution_count": 61,
     "metadata": {},
     "output_type": "execute_result"
    }
   ],
   "source": [
    "logs[logs['ticket_id'] == '2023-NYEK83']"
   ]
  },
  {
   "cell_type": "markdown",
   "metadata": {},
   "source": [
    "These two ids have a lot of missing values, but both have clear logging times in logs DataFrame."
   ]
  },
  {
   "cell_type": "code",
   "execution_count": 62,
   "metadata": {},
   "outputs": [
    {
     "data": {
      "text/plain": [
       "['ล้ำเข้ามาในเขตถนนเกือบ 1 เมตร ต้นไม้ปลูกในที่สาธารณะนอกเขตโฉนดตนเอง ทำให้ซอยที่แคบอยู่แล้วยิ่งแคบเข้าไปอีกเกิดอุบัติเหตุประจำ  เป็นทางลัดที่การจราจรหนาแน่นมาก.. ปากซอยปรีดี 25 ตรงข้ามเจริญมิตรอพาร์ทเม้นท์เขตวัฒนากรุงเทพฯ .. ถ่ายเมื่อ 0608 น 26 สค 67',\n",
       " 'ขอให้ท่านผู้ว่าราชการกรุงเทพมหานครช่วยดำเนินการคืนทางเท้าให้แก่ประชาชนบริเวณหน้าปอเต็กตึ้งถนนพลับพลาไชยปัจจุบันแม่ค้ายึดทางเท้าตั้งวางสินค้าและนั่งกีดขวางทางเท้าประชาชนไม่สามารถเดินบนทางเท้าได้เป็นการกระทำผิดตามพระราชบัญญัติรักษาความสะอาด']"
      ]
     },
     "execution_count": 62,
     "metadata": {},
     "output_type": "execute_result"
    }
   ],
   "source": [
    "cases[cases['coords'].isnull()]['comment'].tolist()"
   ]
  },
  {
   "cell_type": "markdown",
   "metadata": {},
   "source": [
    "This is because the reporters included all the details in the comment. Since I want to use DataFrame without any null for other purposes, the rows will be removed."
   ]
  },
  {
   "cell_type": "code",
   "execution_count": 63,
   "metadata": {},
   "outputs": [
    {
     "data": {
      "text/plain": [
       "(772935, 16)"
      ]
     },
     "metadata": {},
     "output_type": "display_data"
    }
   ],
   "source": [
    "cases.dropna(subset=['coords'], inplace=True)\n",
    "display(cases.shape)"
   ]
  },
  {
   "cell_type": "markdown",
   "metadata": {},
   "source": [
    "Will not remove anything from logs DataFrame yet because will later use left-join to cases DataFrame."
   ]
  },
  {
   "cell_type": "markdown",
   "metadata": {},
   "source": [
    "#### photo and photo_after"
   ]
  },
  {
   "cell_type": "code",
   "execution_count": 64,
   "metadata": {},
   "outputs": [
    {
     "data": {
      "text/plain": [
       "ticket_id                   0\n",
       "type                        0\n",
       "organization_action         0\n",
       "comment                     0\n",
       "coords                      0\n",
       "photo                      97\n",
       "photo_after            158387\n",
       "address                     0\n",
       "subdistrict               440\n",
       "district                  443\n",
       "province                   69\n",
       "state                       0\n",
       "star                   509009\n",
       "count_reopen                2\n",
       "last_activity               4\n",
       "view_count                  2\n",
       "dtype: int64"
      ]
     },
     "execution_count": 64,
     "metadata": {},
     "output_type": "execute_result"
    }
   ],
   "source": [
    "cases.isnull().sum()"
   ]
  },
  {
   "cell_type": "markdown",
   "metadata": {},
   "source": [
    "Since these columns have no use for now, they will be dropped."
   ]
  },
  {
   "cell_type": "code",
   "execution_count": 65,
   "metadata": {},
   "outputs": [
    {
     "data": {
      "text/plain": [
       "(772935, 14)"
      ]
     },
     "metadata": {},
     "output_type": "display_data"
    }
   ],
   "source": [
    "cases.drop(columns=['photo', 'photo_after'], inplace=True)\n",
    "display(cases.shape)"
   ]
  },
  {
   "cell_type": "markdown",
   "metadata": {},
   "source": [
    "#### subdistrict, district, and province"
   ]
  },
  {
   "cell_type": "code",
   "execution_count": 66,
   "metadata": {},
   "outputs": [
    {
     "data": {
      "text/plain": [
       "ticket_id                   0\n",
       "type                        0\n",
       "organization_action         0\n",
       "comment                     0\n",
       "coords                      0\n",
       "address                     0\n",
       "subdistrict               440\n",
       "district                  443\n",
       "province                   69\n",
       "state                       0\n",
       "star                   509009\n",
       "count_reopen                2\n",
       "last_activity               4\n",
       "view_count                  2\n",
       "dtype: int64"
      ]
     },
     "execution_count": 66,
     "metadata": {},
     "output_type": "execute_result"
    }
   ],
   "source": [
    "cases.isnull().sum()"
   ]
  },
  {
   "cell_type": "code",
   "execution_count": 67,
   "metadata": {},
   "outputs": [
    {
     "data": {
      "text/html": [
       "<div>\n",
       "<style scoped>\n",
       "    .dataframe tbody tr th:only-of-type {\n",
       "        vertical-align: middle;\n",
       "    }\n",
       "\n",
       "    .dataframe tbody tr th {\n",
       "        vertical-align: top;\n",
       "    }\n",
       "\n",
       "    .dataframe thead th {\n",
       "        text-align: right;\n",
       "    }\n",
       "</style>\n",
       "<table border=\"1\" class=\"dataframe\">\n",
       "  <thead>\n",
       "    <tr style=\"text-align: right;\">\n",
       "      <th></th>\n",
       "      <th>ticket_id</th>\n",
       "      <th>type</th>\n",
       "      <th>organization_action</th>\n",
       "      <th>comment</th>\n",
       "      <th>coords</th>\n",
       "      <th>address</th>\n",
       "      <th>subdistrict</th>\n",
       "      <th>district</th>\n",
       "      <th>province</th>\n",
       "      <th>state</th>\n",
       "      <th>star</th>\n",
       "      <th>count_reopen</th>\n",
       "      <th>last_activity</th>\n",
       "      <th>view_count</th>\n",
       "    </tr>\n",
       "  </thead>\n",
       "  <tbody>\n",
       "    <tr>\n",
       "      <th>22339</th>\n",
       "      <td>2024-86F4R2</td>\n",
       "      <td>ผิดกฎจราจร</td>\n",
       "      <td>เขตบางกอกน้อย, กองบังคับการตำรวจนครบาล 7 (บก.น...</td>\n",
       "      <td>รถยนต์จอดข้างทางทั้งๆที่เป็นทางเลนสวน จอดประจำ...</td>\n",
       "      <td>100.46833,13.76285</td>\n",
       "      <td>511/510 จรัญสนิทวงศ์ แขวงบางขุนศรี เขตบางกอกน้...</td>\n",
       "      <td>NaN</td>\n",
       "      <td>NaN</td>\n",
       "      <td>NaN</td>\n",
       "      <td>forward</td>\n",
       "      <td>NaN</td>\n",
       "      <td>0.0</td>\n",
       "      <td>2024-11-17 04:09:37</td>\n",
       "      <td>0.0</td>\n",
       "    </tr>\n",
       "    <tr>\n",
       "      <th>33898</th>\n",
       "      <td>2024-E2VHGF</td>\n",
       "      <td>ทางเท้า</td>\n",
       "      <td>ฝ่ายเทศกิจ เขตสาทร, เขตสาทร, กรุงเทพมหานคร</td>\n",
       "      <td>เรียนท่านผู้ว่าก.ท.ม\\nถึงก่อนปากซอยจันทร์18/8ม...</td>\n",
       "      <td>100.52592,13.7066</td>\n",
       "      <td>366 ซอย จันทน์ 18/8 แขวงทุ่งวัดดอน เขตสาทร กรุ...</td>\n",
       "      <td>NaN</td>\n",
       "      <td>NaN</td>\n",
       "      <td>NaN</td>\n",
       "      <td>finish</td>\n",
       "      <td>NaN</td>\n",
       "      <td>0.0</td>\n",
       "      <td>2024-11-03 20:47:07</td>\n",
       "      <td>0.0</td>\n",
       "    </tr>\n",
       "    <tr>\n",
       "      <th>103301</th>\n",
       "      <td>2024-NZECYN</td>\n",
       "      <td>ทางเท้า</td>\n",
       "      <td>สำนักงาน กสทช. (บริการกิจการกระจายเสียงและโทรท...</td>\n",
       "      <td>ชุมชนหลัง 300 ห้องซอย 16 สายไฟและสายเคเบิ้ล หล...</td>\n",
       "      <td>100.50895,13.69915</td>\n",
       "      <td>597 ซอย เจริญกรุง 85 แขวงวัดพระยาไกร เขตบางคอแ...</td>\n",
       "      <td>NaN</td>\n",
       "      <td>NaN</td>\n",
       "      <td>NaN</td>\n",
       "      <td>forward</td>\n",
       "      <td>NaN</td>\n",
       "      <td>0.0</td>\n",
       "      <td>2024-08-19 15:21:27</td>\n",
       "      <td>1.0</td>\n",
       "    </tr>\n",
       "    <tr>\n",
       "      <th>122631</th>\n",
       "      <td>2024-796VL9</td>\n",
       "      <td>ทางเท้า</td>\n",
       "      <td>ฝ่ายเทศกิจ เขตบางบอน, เขตบางบอน, กรุงเทพมหานคร</td>\n",
       "      <td>ตั้งสิ่งของ ร้านค้าแผงลอย บนทางเท้า</td>\n",
       "      <td>100.42658,13.67433</td>\n",
       "      <td>76/9 ถ. เอกชัย บางบอนเหนือ เขตบางบอน กรุงเทพมห...</td>\n",
       "      <td>NaN</td>\n",
       "      <td>NaN</td>\n",
       "      <td>NaN</td>\n",
       "      <td>finish</td>\n",
       "      <td>5.0</td>\n",
       "      <td>1.0</td>\n",
       "      <td>2024-09-04 16:36:19</td>\n",
       "      <td>0.0</td>\n",
       "    </tr>\n",
       "    <tr>\n",
       "      <th>126986</th>\n",
       "      <td>2024-6T8QXH</td>\n",
       "      <td>ต้นไม้</td>\n",
       "      <td>ฝ่ายรักษาความสะอาดฯ เขตบางกอกน้อย, เขตบางกอกน้...</td>\n",
       "      <td>ต้นไม้</td>\n",
       "      <td>100.48093,13.75001</td>\n",
       "      <td>2 ถนน อิสรภาพ แขวง หิรัญรูจี เขตธนบุรี กรุงเทพ...</td>\n",
       "      <td>NaN</td>\n",
       "      <td>NaN</td>\n",
       "      <td>NaN</td>\n",
       "      <td>finish</td>\n",
       "      <td>4.0</td>\n",
       "      <td>0.0</td>\n",
       "      <td>2024-08-10 19:59:24</td>\n",
       "      <td>1.0</td>\n",
       "    </tr>\n",
       "    <tr>\n",
       "      <th>...</th>\n",
       "      <td>...</td>\n",
       "      <td>...</td>\n",
       "      <td>...</td>\n",
       "      <td>...</td>\n",
       "      <td>...</td>\n",
       "      <td>...</td>\n",
       "      <td>...</td>\n",
       "      <td>...</td>\n",
       "      <td>...</td>\n",
       "      <td>...</td>\n",
       "      <td>...</td>\n",
       "      <td>...</td>\n",
       "      <td>...</td>\n",
       "      <td>...</td>\n",
       "    </tr>\n",
       "    <tr>\n",
       "      <th>769732</th>\n",
       "      <td>2022-LAAGYP</td>\n",
       "      <td>ความสะอาด</td>\n",
       "      <td>สำนักสิ่งแวดล้อม กทม., ตลาดนัดจตุจักร - ศูนย์บ...</td>\n",
       "      <td>ตัวอย่างการแจ้ง รบกวนมาเก็บขยะด้วยครับ</td>\n",
       "      <td>100.54915,13.79953</td>\n",
       "      <td>Chatuchak Market ( Section 6 ถนน กำแพงเพชร 2 แ...</td>\n",
       "      <td>NaN</td>\n",
       "      <td>NaN</td>\n",
       "      <td>กรุงเทพมหานคร</td>\n",
       "      <td>finish</td>\n",
       "      <td>NaN</td>\n",
       "      <td>0.0</td>\n",
       "      <td>2022-07-26 09:17:10</td>\n",
       "      <td>0.0</td>\n",
       "    </tr>\n",
       "    <tr>\n",
       "      <th>772746</th>\n",
       "      <td>2022-7BNF76</td>\n",
       "      <td>ความสะอาด</td>\n",
       "      <td>สำนักสิ่งแวดล้อม กทม., กลุ่มงานสัญญาณไฟจราจร ส...</td>\n",
       "      <td>ตัวอย่างการแจ้ง รบกวนมาเก็บขยะด้วยครับ</td>\n",
       "      <td>104.30313,15.12235</td>\n",
       "      <td>310/9 ถนน ศรีสะเกษ - อุทุมพรพิสัย Tambon Ya Pl...</td>\n",
       "      <td>NaN</td>\n",
       "      <td>NaN</td>\n",
       "      <td>ศรีสะเกษ</td>\n",
       "      <td>forward</td>\n",
       "      <td>NaN</td>\n",
       "      <td>0.0</td>\n",
       "      <td>2023-06-14 14:12:13</td>\n",
       "      <td>0.0</td>\n",
       "    </tr>\n",
       "    <tr>\n",
       "      <th>772762</th>\n",
       "      <td>2022-76K38B</td>\n",
       "      <td>อื่นๆ,น้ำท่วม,ความสะอาด</td>\n",
       "      <td>กลุ่มกรุงเทพกลาง (นายสุขสันต์ กิตติศุภกร), ผอ....</td>\n",
       "      <td>ตัวอย่างการแจ้ง รบกวนมาเก็บขยะด้วยครับ</td>\n",
       "      <td>104.30313,15.12235</td>\n",
       "      <td>310/9 ถนน ศรีสะเกษ - อุทุมพรพิสัย Tambon Ya Pl...</td>\n",
       "      <td>NaN</td>\n",
       "      <td>NaN</td>\n",
       "      <td>ศรีสะเกษ</td>\n",
       "      <td>finish</td>\n",
       "      <td>NaN</td>\n",
       "      <td>0.0</td>\n",
       "      <td>2023-05-17 12:06:17</td>\n",
       "      <td>0.0</td>\n",
       "    </tr>\n",
       "    <tr>\n",
       "      <th>772870</th>\n",
       "      <td>2022-C7T2QG</td>\n",
       "      <td>ความสะอาด</td>\n",
       "      <td>สำนักป้องกันและบรรเทาสาธารณภัย กทม.</td>\n",
       "      <td>ตัวอย่างการแจ้ง รบกวนมาเก็บขยะด้วยครับ</td>\n",
       "      <td>100.52581,13.76124</td>\n",
       "      <td>1 ถนน พระรามที่ ๖ แขวง ทุ่งพญาไท เขตพญาไท กรุง...</td>\n",
       "      <td>NaN</td>\n",
       "      <td>NaN</td>\n",
       "      <td>กรุงเทพมหานคร</td>\n",
       "      <td>finish</td>\n",
       "      <td>1.0</td>\n",
       "      <td>0.0</td>\n",
       "      <td>2023-03-30 15:36:17</td>\n",
       "      <td>0.0</td>\n",
       "    </tr>\n",
       "    <tr>\n",
       "      <th>772893</th>\n",
       "      <td>2022-NCAD23</td>\n",
       "      <td>ความสะอาด</td>\n",
       "      <td>เขตลาดพร้าว</td>\n",
       "      <td>ไม่แสดงรายละเอียด</td>\n",
       "      <td>100.60769,13.80356</td>\n",
       "      <td>ตรงข้ามเซ็นทรัล ลาดพร้าว 10900 แขวงลาดพร้าว เข...</td>\n",
       "      <td>NaN</td>\n",
       "      <td>NaN</td>\n",
       "      <td>กรุงเทพมหานคร</td>\n",
       "      <td>irrelevant</td>\n",
       "      <td>NaN</td>\n",
       "      <td>0.0</td>\n",
       "      <td>2022-07-19 11:55:02</td>\n",
       "      <td>0.0</td>\n",
       "    </tr>\n",
       "  </tbody>\n",
       "</table>\n",
       "<p>440 rows × 14 columns</p>\n",
       "</div>"
      ],
      "text/plain": [
       "          ticket_id                     type  \\\n",
       "22339   2024-86F4R2               ผิดกฎจราจร   \n",
       "33898   2024-E2VHGF                  ทางเท้า   \n",
       "103301  2024-NZECYN                  ทางเท้า   \n",
       "122631  2024-796VL9                  ทางเท้า   \n",
       "126986  2024-6T8QXH                   ต้นไม้   \n",
       "...             ...                      ...   \n",
       "769732  2022-LAAGYP                ความสะอาด   \n",
       "772746  2022-7BNF76                ความสะอาด   \n",
       "772762  2022-76K38B  อื่นๆ,น้ำท่วม,ความสะอาด   \n",
       "772870  2022-C7T2QG                ความสะอาด   \n",
       "772893  2022-NCAD23                ความสะอาด   \n",
       "\n",
       "                                      organization_action  \\\n",
       "22339   เขตบางกอกน้อย, กองบังคับการตำรวจนครบาล 7 (บก.น...   \n",
       "33898          ฝ่ายเทศกิจ เขตสาทร, เขตสาทร, กรุงเทพมหานคร   \n",
       "103301  สำนักงาน กสทช. (บริการกิจการกระจายเสียงและโทรท...   \n",
       "122631     ฝ่ายเทศกิจ เขตบางบอน, เขตบางบอน, กรุงเทพมหานคร   \n",
       "126986  ฝ่ายรักษาความสะอาดฯ เขตบางกอกน้อย, เขตบางกอกน้...   \n",
       "...                                                   ...   \n",
       "769732  สำนักสิ่งแวดล้อม กทม., ตลาดนัดจตุจักร - ศูนย์บ...   \n",
       "772746  สำนักสิ่งแวดล้อม กทม., กลุ่มงานสัญญาณไฟจราจร ส...   \n",
       "772762  กลุ่มกรุงเทพกลาง (นายสุขสันต์ กิตติศุภกร), ผอ....   \n",
       "772870                สำนักป้องกันและบรรเทาสาธารณภัย กทม.   \n",
       "772893                                        เขตลาดพร้าว   \n",
       "\n",
       "                                                  comment              coords  \\\n",
       "22339   รถยนต์จอดข้างทางทั้งๆที่เป็นทางเลนสวน จอดประจำ...  100.46833,13.76285   \n",
       "33898   เรียนท่านผู้ว่าก.ท.ม\\nถึงก่อนปากซอยจันทร์18/8ม...   100.52592,13.7066   \n",
       "103301  ชุมชนหลัง 300 ห้องซอย 16 สายไฟและสายเคเบิ้ล หล...  100.50895,13.69915   \n",
       "122631                ตั้งสิ่งของ ร้านค้าแผงลอย บนทางเท้า  100.42658,13.67433   \n",
       "126986                                             ต้นไม้  100.48093,13.75001   \n",
       "...                                                   ...                 ...   \n",
       "769732             ตัวอย่างการแจ้ง รบกวนมาเก็บขยะด้วยครับ  100.54915,13.79953   \n",
       "772746             ตัวอย่างการแจ้ง รบกวนมาเก็บขยะด้วยครับ  104.30313,15.12235   \n",
       "772762             ตัวอย่างการแจ้ง รบกวนมาเก็บขยะด้วยครับ  104.30313,15.12235   \n",
       "772870             ตัวอย่างการแจ้ง รบกวนมาเก็บขยะด้วยครับ  100.52581,13.76124   \n",
       "772893                                  ไม่แสดงรายละเอียด  100.60769,13.80356   \n",
       "\n",
       "                                                  address subdistrict  \\\n",
       "22339   511/510 จรัญสนิทวงศ์ แขวงบางขุนศรี เขตบางกอกน้...         NaN   \n",
       "33898   366 ซอย จันทน์ 18/8 แขวงทุ่งวัดดอน เขตสาทร กรุ...         NaN   \n",
       "103301  597 ซอย เจริญกรุง 85 แขวงวัดพระยาไกร เขตบางคอแ...         NaN   \n",
       "122631  76/9 ถ. เอกชัย บางบอนเหนือ เขตบางบอน กรุงเทพมห...         NaN   \n",
       "126986  2 ถนน อิสรภาพ แขวง หิรัญรูจี เขตธนบุรี กรุงเทพ...         NaN   \n",
       "...                                                   ...         ...   \n",
       "769732  Chatuchak Market ( Section 6 ถนน กำแพงเพชร 2 แ...         NaN   \n",
       "772746  310/9 ถนน ศรีสะเกษ - อุทุมพรพิสัย Tambon Ya Pl...         NaN   \n",
       "772762  310/9 ถนน ศรีสะเกษ - อุทุมพรพิสัย Tambon Ya Pl...         NaN   \n",
       "772870  1 ถนน พระรามที่ ๖ แขวง ทุ่งพญาไท เขตพญาไท กรุง...         NaN   \n",
       "772893  ตรงข้ามเซ็นทรัล ลาดพร้าว 10900 แขวงลาดพร้าว เข...         NaN   \n",
       "\n",
       "       district       province       state  star  count_reopen  \\\n",
       "22339       NaN            NaN     forward   NaN           0.0   \n",
       "33898       NaN            NaN      finish   NaN           0.0   \n",
       "103301      NaN            NaN     forward   NaN           0.0   \n",
       "122631      NaN            NaN      finish   5.0           1.0   \n",
       "126986      NaN            NaN      finish   4.0           0.0   \n",
       "...         ...            ...         ...   ...           ...   \n",
       "769732      NaN  กรุงเทพมหานคร      finish   NaN           0.0   \n",
       "772746      NaN       ศรีสะเกษ     forward   NaN           0.0   \n",
       "772762      NaN       ศรีสะเกษ      finish   NaN           0.0   \n",
       "772870      NaN  กรุงเทพมหานคร      finish   1.0           0.0   \n",
       "772893      NaN  กรุงเทพมหานคร  irrelevant   NaN           0.0   \n",
       "\n",
       "              last_activity  view_count  \n",
       "22339   2024-11-17 04:09:37         0.0  \n",
       "33898   2024-11-03 20:47:07         0.0  \n",
       "103301  2024-08-19 15:21:27         1.0  \n",
       "122631  2024-09-04 16:36:19         0.0  \n",
       "126986  2024-08-10 19:59:24         1.0  \n",
       "...                     ...         ...  \n",
       "769732  2022-07-26 09:17:10         0.0  \n",
       "772746  2023-06-14 14:12:13         0.0  \n",
       "772762  2023-05-17 12:06:17         0.0  \n",
       "772870  2023-03-30 15:36:17         0.0  \n",
       "772893  2022-07-19 11:55:02         0.0  \n",
       "\n",
       "[440 rows x 14 columns]"
      ]
     },
     "execution_count": 67,
     "metadata": {},
     "output_type": "execute_result"
    }
   ],
   "source": [
    "cases[cases['subdistrict'].isnull()]"
   ]
  },
  {
   "cell_type": "markdown",
   "metadata": {},
   "source": [
    "Since Google Reverse Geocoding charges fees and these coordinates cannot be found in nominatim and geoopy, rows with null for district, district, and province columns will be dropped."
   ]
  },
  {
   "cell_type": "code",
   "execution_count": 68,
   "metadata": {},
   "outputs": [
    {
     "name": "stdout",
     "output_type": "stream",
     "text": [
      "Heatmap saved as 'thailand_heatmap.html'. Open it in your browser to view.\n"
     ]
    }
   ],
   "source": [
    "import folium\n",
    "from folium.plugins import HeatMap\n",
    "import pandas as pd\n",
    "\n",
    "# Example data\n",
    "data = [\n",
    "    {\"latitude\": 13.7563, \"longitude\": 100.5018, \"value\": 10},  # Bangkok\n",
    "    {\"latitude\": 18.7893, \"longitude\": 98.9853, \"value\": 20},   # Chiang Mai\n",
    "    {\"latitude\": 7.8804, \"longitude\": 98.3923, \"value\": 15},    # Phuket\n",
    "]\n",
    "\n",
    "# Convert to DataFrame\n",
    "df = pd.DataFrame(data)\n",
    "\n",
    "# Initialize map centered at a location in Thailand\n",
    "heatmap = folium.Map(location=[13.7367, 100.5231], zoom_start=6)\n",
    "\n",
    "# Add heatmap\n",
    "heat_data = [[row['latitude'], row['longitude'], row['value']] for index, row in df.iterrows()]\n",
    "HeatMap(heat_data).add_to(heatmap)\n",
    "\n",
    "# Save to an HTML file\n",
    "heatmap.save(\"thailand_heatmap.html\")\n",
    "\n",
    "print(\"Heatmap saved as 'thailand_heatmap.html'. Open it in your browser to view.\")\n"
   ]
  },
  {
   "cell_type": "code",
   "execution_count": 69,
   "metadata": {},
   "outputs": [
    {
     "data": {
      "text/plain": [
       "0    [100.49996, 13.79136]\n",
       "1     [100.5263, 13.70647]\n",
       "2    [100.52758, 13.70599]\n",
       "3    [100.44078, 13.68686]\n",
       "4    [100.53401, 13.75657]\n",
       "Name: coords, dtype: object"
      ]
     },
     "metadata": {},
     "output_type": "display_data"
    }
   ],
   "source": [
    "cases['coords'] = cases['coords'].apply(makeList)\n",
    "display(cases['coords'].head())"
   ]
  },
  {
   "cell_type": "code",
   "execution_count": 70,
   "metadata": {},
   "outputs": [],
   "source": [
    "cases[['longitude', 'latitude']] = pd.DataFrame(cases['coords'].tolist())"
   ]
  },
  {
   "cell_type": "code",
   "execution_count": 71,
   "metadata": {},
   "outputs": [
    {
     "data": {
      "text/html": [
       "<div>\n",
       "<style scoped>\n",
       "    .dataframe tbody tr th:only-of-type {\n",
       "        vertical-align: middle;\n",
       "    }\n",
       "\n",
       "    .dataframe tbody tr th {\n",
       "        vertical-align: top;\n",
       "    }\n",
       "\n",
       "    .dataframe thead th {\n",
       "        text-align: right;\n",
       "    }\n",
       "</style>\n",
       "<table border=\"1\" class=\"dataframe\">\n",
       "  <thead>\n",
       "    <tr style=\"text-align: right;\">\n",
       "      <th></th>\n",
       "      <th>ticket_id</th>\n",
       "      <th>type</th>\n",
       "      <th>organization_action</th>\n",
       "      <th>comment</th>\n",
       "      <th>coords</th>\n",
       "      <th>address</th>\n",
       "      <th>subdistrict</th>\n",
       "      <th>district</th>\n",
       "      <th>province</th>\n",
       "      <th>state</th>\n",
       "      <th>star</th>\n",
       "      <th>count_reopen</th>\n",
       "      <th>last_activity</th>\n",
       "      <th>view_count</th>\n",
       "      <th>longitude</th>\n",
       "      <th>latitude</th>\n",
       "    </tr>\n",
       "  </thead>\n",
       "  <tbody>\n",
       "    <tr>\n",
       "      <th>0</th>\n",
       "      <td>2024-6UUBZ2</td>\n",
       "      <td>เสียง</td>\n",
       "      <td>เขตบางพลัด, กรุงเทพมหานคร</td>\n",
       "      <td>เพื่อนบ้านเปิดเพลงเสียงดังรบกวนผ่านเครื่องขยาย...</td>\n",
       "      <td>[100.49996, 13.79136]</td>\n",
       "      <td>155 ซอย จรัญสนิทวงศ์ 79 แขวงบางพลัด เขตบางพลัด...</td>\n",
       "      <td>บางพลัด</td>\n",
       "      <td>บางพลัด</td>\n",
       "      <td>กรุงเทพมหานคร</td>\n",
       "      <td>start</td>\n",
       "      <td>NaN</td>\n",
       "      <td>0.0</td>\n",
       "      <td>2024-12-11 20:14:22</td>\n",
       "      <td>0.0</td>\n",
       "      <td>100.49996</td>\n",
       "      <td>13.79136</td>\n",
       "    </tr>\n",
       "    <tr>\n",
       "      <th>1</th>\n",
       "      <td>2024-CYP76V</td>\n",
       "      <td>ผิดกฎจราจร</td>\n",
       "      <td>เขตสาทร, กรุงเทพมหานคร</td>\n",
       "      <td>เรียนท่านผู้ว่าก.ท.ม\\nถึงก่อนปากซอยจันทร์18/7ใ...</td>\n",
       "      <td>[100.5263, 13.70647]</td>\n",
       "      <td>308 ถ. จันทน์ แขวงทุ่งวัดดอน เขตสาทร กรุงเทพมห...</td>\n",
       "      <td>ทุ่งวัดดอน</td>\n",
       "      <td>สาทร</td>\n",
       "      <td>กรุงเทพมหานคร</td>\n",
       "      <td>start</td>\n",
       "      <td>NaN</td>\n",
       "      <td>0.0</td>\n",
       "      <td>2024-12-11 20:14:14</td>\n",
       "      <td>0.0</td>\n",
       "      <td>100.5263</td>\n",
       "      <td>13.70647</td>\n",
       "    </tr>\n",
       "    <tr>\n",
       "      <th>2</th>\n",
       "      <td>2024-8U78XH</td>\n",
       "      <td>ผิดกฎจราจร</td>\n",
       "      <td>เขตสาทร, กรุงเทพมหานคร</td>\n",
       "      <td>จัดงานตลาดนัด จัดระเบียบได้ดีให้รถมอเตอร์ไซค์เ...</td>\n",
       "      <td>[100.52758, 13.70599]</td>\n",
       "      <td>1928/3 ซอย จันทน์ 23/2 แขวงทุ่งวัดดอน เขตสาทร ...</td>\n",
       "      <td>ทุ่งวัดดอน</td>\n",
       "      <td>สาทร</td>\n",
       "      <td>กรุงเทพมหานคร</td>\n",
       "      <td>start</td>\n",
       "      <td>NaN</td>\n",
       "      <td>0.0</td>\n",
       "      <td>2024-12-11 20:09:51</td>\n",
       "      <td>0.0</td>\n",
       "      <td>100.52758</td>\n",
       "      <td>13.70599</td>\n",
       "    </tr>\n",
       "    <tr>\n",
       "      <th>3</th>\n",
       "      <td>RXTPAP</td>\n",
       "      <td>ฝุ่นควัน&amp;กลิ่น&amp;PM2.5</td>\n",
       "      <td>เขตบางบอน, กรุงเทพมหานคร, ร้องทุกข์ กทม. 1555</td>\n",
       "      <td>ปัญหา: บริเวณหน้าบ้านเลขที่ดังกล่าว พบผู้อาศัย...</td>\n",
       "      <td>[100.44078, 13.68686]</td>\n",
       "      <td>10/101 ซอย เอกชัย 46 แขวงคลองบางพราน เขตบางบอน...</td>\n",
       "      <td>คลองบางพราน</td>\n",
       "      <td>บางบอน</td>\n",
       "      <td>กรุงเทพมหานคร</td>\n",
       "      <td>forward</td>\n",
       "      <td>NaN</td>\n",
       "      <td>0.0</td>\n",
       "      <td>2024-12-11 20:09:11</td>\n",
       "      <td>0.0</td>\n",
       "      <td>100.44078</td>\n",
       "      <td>13.68686</td>\n",
       "    </tr>\n",
       "    <tr>\n",
       "      <th>4</th>\n",
       "      <td>2024-78EH2R</td>\n",
       "      <td>อื่นๆ</td>\n",
       "      <td>เขตราชเทวี, กรุงเทพมหานคร</td>\n",
       "      <td>จอด</td>\n",
       "      <td>[100.53401, 13.75657]</td>\n",
       "      <td>BTS Phaya Thai Phaya Thai Road Thanon Phaya Th...</td>\n",
       "      <td>ถนนพญาไท</td>\n",
       "      <td>ราชเทวี</td>\n",
       "      <td>กรุงเทพมหานคร</td>\n",
       "      <td>start</td>\n",
       "      <td>NaN</td>\n",
       "      <td>0.0</td>\n",
       "      <td>2024-12-11 20:08:41</td>\n",
       "      <td>0.0</td>\n",
       "      <td>100.53401</td>\n",
       "      <td>13.75657</td>\n",
       "    </tr>\n",
       "  </tbody>\n",
       "</table>\n",
       "</div>"
      ],
      "text/plain": [
       "     ticket_id                  type  \\\n",
       "0  2024-6UUBZ2                 เสียง   \n",
       "1  2024-CYP76V            ผิดกฎจราจร   \n",
       "2  2024-8U78XH            ผิดกฎจราจร   \n",
       "3       RXTPAP  ฝุ่นควัน&กลิ่น&PM2.5   \n",
       "4  2024-78EH2R                 อื่นๆ   \n",
       "\n",
       "                             organization_action  \\\n",
       "0                      เขตบางพลัด, กรุงเทพมหานคร   \n",
       "1                         เขตสาทร, กรุงเทพมหานคร   \n",
       "2                         เขตสาทร, กรุงเทพมหานคร   \n",
       "3  เขตบางบอน, กรุงเทพมหานคร, ร้องทุกข์ กทม. 1555   \n",
       "4                      เขตราชเทวี, กรุงเทพมหานคร   \n",
       "\n",
       "                                             comment                 coords  \\\n",
       "0  เพื่อนบ้านเปิดเพลงเสียงดังรบกวนผ่านเครื่องขยาย...  [100.49996, 13.79136]   \n",
       "1  เรียนท่านผู้ว่าก.ท.ม\\nถึงก่อนปากซอยจันทร์18/7ใ...   [100.5263, 13.70647]   \n",
       "2  จัดงานตลาดนัด จัดระเบียบได้ดีให้รถมอเตอร์ไซค์เ...  [100.52758, 13.70599]   \n",
       "3  ปัญหา: บริเวณหน้าบ้านเลขที่ดังกล่าว พบผู้อาศัย...  [100.44078, 13.68686]   \n",
       "4                                                จอด  [100.53401, 13.75657]   \n",
       "\n",
       "                                             address  subdistrict district  \\\n",
       "0  155 ซอย จรัญสนิทวงศ์ 79 แขวงบางพลัด เขตบางพลัด...      บางพลัด  บางพลัด   \n",
       "1  308 ถ. จันทน์ แขวงทุ่งวัดดอน เขตสาทร กรุงเทพมห...   ทุ่งวัดดอน     สาทร   \n",
       "2  1928/3 ซอย จันทน์ 23/2 แขวงทุ่งวัดดอน เขตสาทร ...   ทุ่งวัดดอน     สาทร   \n",
       "3  10/101 ซอย เอกชัย 46 แขวงคลองบางพราน เขตบางบอน...  คลองบางพราน   บางบอน   \n",
       "4  BTS Phaya Thai Phaya Thai Road Thanon Phaya Th...     ถนนพญาไท  ราชเทวี   \n",
       "\n",
       "        province    state  star  count_reopen        last_activity  \\\n",
       "0  กรุงเทพมหานคร    start   NaN           0.0  2024-12-11 20:14:22   \n",
       "1  กรุงเทพมหานคร    start   NaN           0.0  2024-12-11 20:14:14   \n",
       "2  กรุงเทพมหานคร    start   NaN           0.0  2024-12-11 20:09:51   \n",
       "3  กรุงเทพมหานคร  forward   NaN           0.0  2024-12-11 20:09:11   \n",
       "4  กรุงเทพมหานคร    start   NaN           0.0  2024-12-11 20:08:41   \n",
       "\n",
       "   view_count  longitude  latitude  \n",
       "0         0.0  100.49996  13.79136  \n",
       "1         0.0   100.5263  13.70647  \n",
       "2         0.0  100.52758  13.70599  \n",
       "3         0.0  100.44078  13.68686  \n",
       "4         0.0  100.53401  13.75657  "
      ]
     },
     "execution_count": 71,
     "metadata": {},
     "output_type": "execute_result"
    }
   ],
   "source": [
    "cases.head()"
   ]
  },
  {
   "cell_type": "code",
   "execution_count": 38,
   "metadata": {},
   "outputs": [],
   "source": [
    "def check_coords(coords):\n",
    "    try:\n",
    "        lon, lat = map(float, coords)\n",
    "        return (lon, lat)\n",
    "    except ValueError:\n",
    "        return None"
   ]
  },
  {
   "cell_type": "code",
   "execution_count": 72,
   "metadata": {},
   "outputs": [],
   "source": [
    "cases['coords'] = cases['coords'].apply(check_coords)"
   ]
  },
  {
   "cell_type": "code",
   "execution_count": 40,
   "metadata": {},
   "outputs": [
    {
     "data": {
      "text/plain": [
       "0    (100.49996, 13.79136)\n",
       "1     (100.5263, 13.70647)\n",
       "2    (100.52758, 13.70599)\n",
       "3    (100.44078, 13.68686)\n",
       "4    (100.53401, 13.75657)\n",
       "Name: coords, dtype: object"
      ]
     },
     "execution_count": 40,
     "metadata": {},
     "output_type": "execute_result"
    }
   ],
   "source": [
    "cases['coords'].head()"
   ]
  },
  {
   "cell_type": "code",
   "execution_count": 35,
   "metadata": {},
   "outputs": [
    {
     "data": {
      "text/plain": [
       "np.int64(2)"
      ]
     },
     "execution_count": 35,
     "metadata": {},
     "output_type": "execute_result"
    }
   ],
   "source": [
    "cases['coords'].isnull().sum()"
   ]
  },
  {
   "cell_type": "code",
   "execution_count": 73,
   "metadata": {},
   "outputs": [],
   "source": [
    "cases.dropna(subset=['coords'], inplace=True)"
   ]
  },
  {
   "cell_type": "code",
   "execution_count": 74,
   "metadata": {},
   "outputs": [
    {
     "data": {
      "text/plain": [
       "(772933, 16)"
      ]
     },
     "execution_count": 74,
     "metadata": {},
     "output_type": "execute_result"
    }
   ],
   "source": [
    "cases.shape"
   ]
  },
  {
   "cell_type": "code",
   "execution_count": 88,
   "metadata": {},
   "outputs": [
    {
     "ename": "ModuleNotFoundError",
     "evalue": "No module named 'gdal'",
     "output_type": "error",
     "traceback": [
      "\u001b[0;31m---------------------------------------------------------------------------\u001b[0m",
      "\u001b[0;31mModuleNotFoundError\u001b[0m                       Traceback (most recent call last)",
      "Cell \u001b[0;32mIn[88], line 4\u001b[0m\n\u001b[1;32m      2\u001b[0m \u001b[38;5;28;01mimport\u001b[39;00m \u001b[38;5;21;01mgeopandas\u001b[39;00m \u001b[38;5;28;01mas\u001b[39;00m \u001b[38;5;21;01mgpd\u001b[39;00m\n\u001b[1;32m      3\u001b[0m \u001b[38;5;28;01mimport\u001b[39;00m \u001b[38;5;21;01mmatplotlib\u001b[39;00m\u001b[38;5;21;01m.\u001b[39;00m\u001b[38;5;21;01mpyplot\u001b[39;00m \u001b[38;5;28;01mas\u001b[39;00m \u001b[38;5;21;01mplt\u001b[39;00m\n\u001b[0;32m----> 4\u001b[0m \u001b[38;5;28;01mimport\u001b[39;00m \u001b[38;5;21;01mgdal\u001b[39;00m\n\u001b[1;32m      6\u001b[0m gdal\u001b[38;5;241m.\u001b[39mSetConfigOption(\u001b[38;5;124m'\u001b[39m\u001b[38;5;124mSHAPE_RESTORE_SHX\u001b[39m\u001b[38;5;124m'\u001b[39m, \u001b[38;5;124m'\u001b[39m\u001b[38;5;124mYES\u001b[39m\u001b[38;5;124m'\u001b[39m) \n\u001b[1;32m      8\u001b[0m \u001b[38;5;66;03m# Load your data\u001b[39;00m\n",
      "\u001b[0;31mModuleNotFoundError\u001b[0m: No module named 'gdal'"
     ]
    }
   ],
   "source": [
    "import pandas as pd\n",
    "import geopandas as gpd\n",
    "import matplotlib.pyplot as plt\n",
    "import gdal\n",
    "\n",
    "gdal.SetConfigOption('SHAPE_RESTORE_SHX', 'YES') \n",
    "\n",
    "# Load your data\n",
    "data = cases.head()\n",
    "\n",
    "# Create a GeoDataFrame\n",
    "gdf = gpd.GeoDataFrame(\n",
    "    data,\n",
    "    geometry=gpd.points_from_xy(data['longitude'], data['latitude'])\n",
    ")\n",
    "\n",
    "# Load Thailand's shapefile\n",
    "thailand = gpd.read_file('thailand.shp') \n",
    "\n",
    "# Create a figure and axes\n",
    "fig, ax = plt.subplots(figsize=(10, 6))\n",
    "\n",
    "# Plot Thailand's shapefile\n",
    "thailand.plot(ax=ax, color='lightgray', edgecolor='black')\n",
    "\n",
    "# Create a heatmap using `geopandas.sjoin`\n",
    "joined_df = gpd.sjoin(gdf, thailand, how='inner', op='within')\n",
    "heatmap_df = joined_df.groupby('index_right')['geometry'].count().reset_index()\n",
    "heatmap_df.columns = ['region', 'count']\n",
    "\n",
    "# Merge count data with the shapefile\n",
    "merged_df = thailand.merge(heatmap_df, left_on='index', right_on='region', how='left')\n",
    "\n",
    "# Plot the heatmap\n",
    "merged_df.plot(column='count', ax=ax, legend=True, cmap='YlOrRd')\n",
    "\n",
    "# Add title and labels\n",
    "ax.set_title('Heatmap of Coordinates in Thailand')\n",
    "ax.set_xlabel('Longitude')\n",
    "ax.set_ylabel('Latitude')\n",
    "\n",
    "plt.tight_layout()\n",
    "plt.show()"
   ]
  },
  {
   "cell_type": "code",
   "execution_count": null,
   "metadata": {},
   "outputs": [],
   "source": []
  }
 ],
 "metadata": {
  "kernelspec": {
   "display_name": "Python 3",
   "language": "python",
   "name": "python3"
  },
  "language_info": {
   "codemirror_mode": {
    "name": "ipython",
    "version": 3
   },
   "file_extension": ".py",
   "mimetype": "text/x-python",
   "name": "python",
   "nbconvert_exporter": "python",
   "pygments_lexer": "ipython3",
   "version": "3.12.1"
  }
 },
 "nbformat": 4,
 "nbformat_minor": 2
}
